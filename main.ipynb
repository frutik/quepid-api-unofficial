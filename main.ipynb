{
 "cells": [
  {
   "metadata": {},
   "cell_type": "markdown",
   "source": "",
   "id": "8c64ba1d1f165126"
  },
  {
   "cell_type": "markdown",
   "id": "f23c4ce1-d1f8-46f4-bb04-90b9298fbcb8",
   "metadata": {},
   "source": [
    "## Use Quepid via API\n",
    "\n",
    "Objective:\n",
    "\n",
    "Set up a working Quepid instance programmatically via unofficial HTTP API (develper in this repo).\n",
    "As an example, we will use the WANDS dataset."
   ]
  },
  {
   "cell_type": "markdown",
   "id": "fa406142-84c8-407b-b088-f39678c43f88",
   "metadata": {},
   "source": [
    "#### Config"
   ]
  },
  {
   "cell_type": "code",
   "execution_count": 37,
   "id": "f8db1b10-2a1b-4f97-9fc6-b81e7f318c53",
   "metadata": {},
   "outputs": [],
   "source": [
    "WANDS_INDEX = 'http://localhost:9200/wands'\n",
    "QUEPID_TOKEN = '56d958e1221fd7e683123f1d7317dbdd925618d9e193e958bdfc3fd319f04fae'"
   ]
  },
  {
   "cell_type": "code",
   "execution_count": 38,
   "id": "b2e5c5c7-be2e-4f5b-954e-0904fa8ca833",
   "metadata": {},
   "outputs": [],
   "source": [
    "import requests\n",
    "from tqdm import tqdm"
   ]
  },
  {
   "cell_type": "markdown",
   "id": "713954ef-a01f-48c4-b092-607384177a15",
   "metadata": {},
   "source": [
    "## Set up Quepid\n",
    "\n",
    "Folllow the instrutions in [README](https://github.com/frutik/quepid-api-unofficial?tab=readme-ov-file#run-locally-connecting-to-local-quepid)"
   ]
  },
  {
   "cell_type": "markdown",
   "id": "7537fb36-3276-43d6-9d44-b60f567456d0",
   "metadata": {},
   "source": [
    "## WANDS"
   ]
  },
  {
   "cell_type": "code",
   "execution_count": 1,
   "id": "1ff8e159-3722-40b9-b735-5213794446a5",
   "metadata": {},
   "outputs": [
    {
     "name": "stdout",
     "output_type": "stream",
     "text": [
      "Cloning into 'WANDS'...\n",
      "remote: Enumerating objects: 40, done.\u001B[K\n",
      "remote: Counting objects: 100% (19/19), done.\u001B[K\n",
      "remote: Compressing objects: 100% (16/16), done.\u001B[K\n",
      "remote: Total 40 (delta 6), reused 3 (delta 3), pack-reused 21 (from 1)\u001B[K\n",
      "Receiving objects: 100% (40/40), 33.32 MiB | 11.04 MiB/s, done.\n",
      "Resolving deltas: 100% (6/6), done.\n"
     ]
    }
   ],
   "source": [
    "!git clone https://github.com/wayfair/WANDS.git"
   ]
  },
  {
   "cell_type": "code",
   "execution_count": 6,
   "id": "42d71b91-13b2-430a-95a0-36567f4975b4",
   "metadata": {},
   "outputs": [
    {
     "name": "stdout",
     "output_type": "stream",
     "text": [
      "Requirement already satisfied: pandas in /Users/frutik/.pyenv/versions/3.12.9/lib/python3.12/site-packages (2.3.0)\n",
      "Requirement already satisfied: numpy>=1.26.0 in /Users/frutik/.pyenv/versions/3.12.9/lib/python3.12/site-packages (from pandas) (2.2.6)\n",
      "Requirement already satisfied: python-dateutil>=2.8.2 in /Users/frutik/.pyenv/versions/3.12.9/lib/python3.12/site-packages (from pandas) (2.9.0.post0)\n",
      "Requirement already satisfied: pytz>=2020.1 in /Users/frutik/.pyenv/versions/3.12.9/lib/python3.12/site-packages (from pandas) (2025.2)\n",
      "Requirement already satisfied: tzdata>=2022.7 in /Users/frutik/.pyenv/versions/3.12.9/lib/python3.12/site-packages (from pandas) (2025.2)\n",
      "Requirement already satisfied: six>=1.5 in /Users/frutik/.pyenv/versions/3.12.9/lib/python3.12/site-packages (from python-dateutil>=2.8.2->pandas) (1.17.0)\n",
      "\n",
      "\u001B[1m[\u001B[0m\u001B[34;49mnotice\u001B[0m\u001B[1;39;49m]\u001B[0m\u001B[39;49m A new release of pip is available: \u001B[0m\u001B[31;49m25.0.1\u001B[0m\u001B[39;49m -> \u001B[0m\u001B[32;49m25.1.1\u001B[0m\n",
      "\u001B[1m[\u001B[0m\u001B[34;49mnotice\u001B[0m\u001B[1;39;49m]\u001B[0m\u001B[39;49m To update, run: \u001B[0m\u001B[32;49mpip install --upgrade pip\u001B[0m\n"
     ]
    }
   ],
   "source": [
    "!pip install pandas"
   ]
  },
  {
   "cell_type": "code",
   "execution_count": 39,
   "id": "39859386-6262-4f64-8c9e-ba984b057bcc",
   "metadata": {},
   "outputs": [],
   "source": [
    "import pandas as pd"
   ]
  },
  {
   "cell_type": "code",
   "execution_count": 40,
   "id": "a73c8c0d-829b-40fc-8384-eebaf72a8e68",
   "metadata": {},
   "outputs": [
    {
     "data": {
      "text/html": [
       "<div>\n",
       "<style scoped>\n",
       "    .dataframe tbody tr th:only-of-type {\n",
       "        vertical-align: middle;\n",
       "    }\n",
       "\n",
       "    .dataframe tbody tr th {\n",
       "        vertical-align: top;\n",
       "    }\n",
       "\n",
       "    .dataframe thead th {\n",
       "        text-align: right;\n",
       "    }\n",
       "</style>\n",
       "<table border=\"1\" class=\"dataframe\">\n",
       "  <thead>\n",
       "    <tr style=\"text-align: right;\">\n",
       "      <th></th>\n",
       "      <th>query_id</th>\n",
       "      <th>query</th>\n",
       "      <th>query_class</th>\n",
       "    </tr>\n",
       "  </thead>\n",
       "  <tbody>\n",
       "    <tr>\n",
       "      <th>0</th>\n",
       "      <td>0</td>\n",
       "      <td>salon chair</td>\n",
       "      <td>Massage Chairs</td>\n",
       "    </tr>\n",
       "    <tr>\n",
       "      <th>1</th>\n",
       "      <td>1</td>\n",
       "      <td>smart coffee table</td>\n",
       "      <td>Coffee &amp; Cocktail Tables</td>\n",
       "    </tr>\n",
       "    <tr>\n",
       "      <th>2</th>\n",
       "      <td>2</td>\n",
       "      <td>dinosaur</td>\n",
       "      <td>Kids Wall Décor</td>\n",
       "    </tr>\n",
       "    <tr>\n",
       "      <th>3</th>\n",
       "      <td>3</td>\n",
       "      <td>turquoise pillows</td>\n",
       "      <td>Accent Pillows</td>\n",
       "    </tr>\n",
       "    <tr>\n",
       "      <th>4</th>\n",
       "      <td>4</td>\n",
       "      <td>chair and a half recliner</td>\n",
       "      <td>Recliners</td>\n",
       "    </tr>\n",
       "    <tr>\n",
       "      <th>...</th>\n",
       "      <td>...</td>\n",
       "      <td>...</td>\n",
       "      <td>...</td>\n",
       "    </tr>\n",
       "    <tr>\n",
       "      <th>475</th>\n",
       "      <td>483</td>\n",
       "      <td>rustic twig</td>\n",
       "      <td>Faux Plants and Trees</td>\n",
       "    </tr>\n",
       "    <tr>\n",
       "      <th>476</th>\n",
       "      <td>484</td>\n",
       "      <td>nespresso vertuo next premium by breville with...</td>\n",
       "      <td>Espresso Machines</td>\n",
       "    </tr>\n",
       "    <tr>\n",
       "      <th>477</th>\n",
       "      <td>485</td>\n",
       "      <td>pedistole sink</td>\n",
       "      <td>Kitchen Sinks</td>\n",
       "    </tr>\n",
       "    <tr>\n",
       "      <th>478</th>\n",
       "      <td>486</td>\n",
       "      <td>54 in bench cushion</td>\n",
       "      <td>Furniture Cushions</td>\n",
       "    </tr>\n",
       "    <tr>\n",
       "      <th>479</th>\n",
       "      <td>487</td>\n",
       "      <td>rack glass</td>\n",
       "      <td>Candle Holders</td>\n",
       "    </tr>\n",
       "  </tbody>\n",
       "</table>\n",
       "<p>480 rows × 3 columns</p>\n",
       "</div>"
      ],
      "text/plain": [
       "     query_id                                              query  \\\n",
       "0           0                                        salon chair   \n",
       "1           1                                 smart coffee table   \n",
       "2           2                                           dinosaur   \n",
       "3           3                                  turquoise pillows   \n",
       "4           4                          chair and a half recliner   \n",
       "..        ...                                                ...   \n",
       "475       483                                        rustic twig   \n",
       "476       484  nespresso vertuo next premium by breville with...   \n",
       "477       485                                     pedistole sink   \n",
       "478       486                                54 in bench cushion   \n",
       "479       487                                         rack glass   \n",
       "\n",
       "                  query_class  \n",
       "0              Massage Chairs  \n",
       "1    Coffee & Cocktail Tables  \n",
       "2             Kids Wall Décor  \n",
       "3              Accent Pillows  \n",
       "4                   Recliners  \n",
       "..                        ...  \n",
       "475     Faux Plants and Trees  \n",
       "476         Espresso Machines  \n",
       "477             Kitchen Sinks  \n",
       "478        Furniture Cushions  \n",
       "479            Candle Holders  \n",
       "\n",
       "[480 rows x 3 columns]"
      ]
     },
     "execution_count": 40,
     "metadata": {},
     "output_type": "execute_result"
    }
   ],
   "source": [
    "query_df = pd.read_csv(\"WANDS/dataset/query.csv\", sep='\\t')\n",
    "query_df"
   ]
  },
  {
   "cell_type": "code",
   "execution_count": 4,
   "id": "c3cb46c1-bafe-49c2-b472-f1ba54ca4122",
   "metadata": {},
   "outputs": [
    {
     "data": {
      "text/html": [
       "<div>\n",
       "<style scoped>\n",
       "    .dataframe tbody tr th:only-of-type {\n",
       "        vertical-align: middle;\n",
       "    }\n",
       "\n",
       "    .dataframe tbody tr th {\n",
       "        vertical-align: top;\n",
       "    }\n",
       "\n",
       "    .dataframe thead th {\n",
       "        text-align: right;\n",
       "    }\n",
       "</style>\n",
       "<table border=\"1\" class=\"dataframe\">\n",
       "  <thead>\n",
       "    <tr style=\"text-align: right;\">\n",
       "      <th></th>\n",
       "      <th>product_id</th>\n",
       "      <th>product_name</th>\n",
       "      <th>product_class</th>\n",
       "      <th>category hierarchy</th>\n",
       "      <th>product_description</th>\n",
       "      <th>product_features</th>\n",
       "      <th>rating_count</th>\n",
       "      <th>average_rating</th>\n",
       "      <th>review_count</th>\n",
       "    </tr>\n",
       "  </thead>\n",
       "  <tbody>\n",
       "    <tr>\n",
       "      <th>0</th>\n",
       "      <td>0</td>\n",
       "      <td>solid wood platform bed</td>\n",
       "      <td>Beds</td>\n",
       "      <td>Furniture / Bedroom Furniture / Beds &amp; Headboa...</td>\n",
       "      <td>good , deep sleep can be quite difficult to ha...</td>\n",
       "      <td>overallwidth-sidetoside:64.7|dsprimaryproducts...</td>\n",
       "      <td>15.0</td>\n",
       "      <td>4.5</td>\n",
       "      <td>15.0</td>\n",
       "    </tr>\n",
       "    <tr>\n",
       "      <th>1</th>\n",
       "      <td>1</td>\n",
       "      <td>all-clad 7 qt . slow cooker</td>\n",
       "      <td>Slow Cookers</td>\n",
       "      <td>Kitchen &amp; Tabletop / Small Kitchen Appliances ...</td>\n",
       "      <td>create delicious slow-cooked meals , from tend...</td>\n",
       "      <td>capacityquarts:7|producttype : slow cooker|pro...</td>\n",
       "      <td>100.0</td>\n",
       "      <td>2.0</td>\n",
       "      <td>98.0</td>\n",
       "    </tr>\n",
       "    <tr>\n",
       "      <th>2</th>\n",
       "      <td>2</td>\n",
       "      <td>all-clad electrics 6.5 qt . slow cooker</td>\n",
       "      <td>Slow Cookers</td>\n",
       "      <td>Kitchen &amp; Tabletop / Small Kitchen Appliances ...</td>\n",
       "      <td>prepare home-cooked meals on any schedule with...</td>\n",
       "      <td>features : keep warm setting|capacityquarts:6....</td>\n",
       "      <td>208.0</td>\n",
       "      <td>3.0</td>\n",
       "      <td>181.0</td>\n",
       "    </tr>\n",
       "    <tr>\n",
       "      <th>3</th>\n",
       "      <td>3</td>\n",
       "      <td>all-clad all professional tools pizza cutter</td>\n",
       "      <td>Slicers, Peelers And Graters</td>\n",
       "      <td>Browse By Brand / All-Clad</td>\n",
       "      <td>this original stainless tool was designed to c...</td>\n",
       "      <td>overallwidth-sidetoside:3.5|warrantylength : l...</td>\n",
       "      <td>69.0</td>\n",
       "      <td>4.5</td>\n",
       "      <td>42.0</td>\n",
       "    </tr>\n",
       "    <tr>\n",
       "      <th>4</th>\n",
       "      <td>4</td>\n",
       "      <td>baldwin prestige alcott passage knob with roun...</td>\n",
       "      <td>Door Knobs</td>\n",
       "      <td>Home Improvement / Doors &amp; Door Hardware / Doo...</td>\n",
       "      <td>the hardware has a rich heritage of delivering...</td>\n",
       "      <td>compatibledoorthickness:1.375 '' |countryofori...</td>\n",
       "      <td>70.0</td>\n",
       "      <td>5.0</td>\n",
       "      <td>42.0</td>\n",
       "    </tr>\n",
       "    <tr>\n",
       "      <th>...</th>\n",
       "      <td>...</td>\n",
       "      <td>...</td>\n",
       "      <td>...</td>\n",
       "      <td>...</td>\n",
       "      <td>...</td>\n",
       "      <td>...</td>\n",
       "      <td>...</td>\n",
       "      <td>...</td>\n",
       "      <td>...</td>\n",
       "    </tr>\n",
       "    <tr>\n",
       "      <th>42989</th>\n",
       "      <td>42989</td>\n",
       "      <td>malibu pressure balanced diverter fixed shower...</td>\n",
       "      <td>Shower Panels</td>\n",
       "      <td>Home Improvement / Bathroom Remodel &amp; Bathroom...</td>\n",
       "      <td>the malibu pressure balanced diverter fixed sh...</td>\n",
       "      <td>producttype : shower panel|spraypattern : rain...</td>\n",
       "      <td>3.0</td>\n",
       "      <td>4.5</td>\n",
       "      <td>2.0</td>\n",
       "    </tr>\n",
       "    <tr>\n",
       "      <th>42990</th>\n",
       "      <td>42990</td>\n",
       "      <td>emmeline 5 piece breakfast dining set</td>\n",
       "      <td>Dining Table Sets</td>\n",
       "      <td>Furniture / Kitchen &amp; Dining Furniture / Dinin...</td>\n",
       "      <td>NaN</td>\n",
       "      <td>basematerialdetails : steel| : gray wood|ofhar...</td>\n",
       "      <td>1314.0</td>\n",
       "      <td>4.5</td>\n",
       "      <td>864.0</td>\n",
       "    </tr>\n",
       "    <tr>\n",
       "      <th>42991</th>\n",
       "      <td>42991</td>\n",
       "      <td>maloney 3 piece pub table set</td>\n",
       "      <td>Dining Table Sets</td>\n",
       "      <td>Furniture / Kitchen &amp; Dining Furniture / Dinin...</td>\n",
       "      <td>this pub table set includes 1 counter height t...</td>\n",
       "      <td>additionaltoolsrequirednotincluded : power dri...</td>\n",
       "      <td>49.0</td>\n",
       "      <td>4.0</td>\n",
       "      <td>41.0</td>\n",
       "    </tr>\n",
       "    <tr>\n",
       "      <th>42992</th>\n",
       "      <td>42992</td>\n",
       "      <td>fletcher 27.5 '' wide polyester armchair</td>\n",
       "      <td>Teen Lounge Furniture|Accent Chairs</td>\n",
       "      <td>Furniture / Living Room Furniture / Chairs &amp; S...</td>\n",
       "      <td>bring iconic , modern style to your space in a...</td>\n",
       "      <td>legmaterialdetails : rubberwood|backheight-sea...</td>\n",
       "      <td>1746.0</td>\n",
       "      <td>4.5</td>\n",
       "      <td>1226.0</td>\n",
       "    </tr>\n",
       "    <tr>\n",
       "      <th>42993</th>\n",
       "      <td>42993</td>\n",
       "      <td>griffin 29 '' bar stool</td>\n",
       "      <td>Bar Stools</td>\n",
       "      <td>Furniture / Kitchen &amp; Dining Furniture / Bar F...</td>\n",
       "      <td>this set of two barstools features a minimalis...</td>\n",
       "      <td>distancebetweenfloorandfootrest:7.5|dssecondar...</td>\n",
       "      <td>20.0</td>\n",
       "      <td>4.5</td>\n",
       "      <td>20.0</td>\n",
       "    </tr>\n",
       "  </tbody>\n",
       "</table>\n",
       "<p>42994 rows × 9 columns</p>\n",
       "</div>"
      ],
      "text/plain": [
       "       product_id                                       product_name  \\\n",
       "0               0                            solid wood platform bed   \n",
       "1               1                        all-clad 7 qt . slow cooker   \n",
       "2               2            all-clad electrics 6.5 qt . slow cooker   \n",
       "3               3       all-clad all professional tools pizza cutter   \n",
       "4               4  baldwin prestige alcott passage knob with roun...   \n",
       "...           ...                                                ...   \n",
       "42989       42989  malibu pressure balanced diverter fixed shower...   \n",
       "42990       42990              emmeline 5 piece breakfast dining set   \n",
       "42991       42991                      maloney 3 piece pub table set   \n",
       "42992       42992           fletcher 27.5 '' wide polyester armchair   \n",
       "42993       42993                            griffin 29 '' bar stool   \n",
       "\n",
       "                             product_class  \\\n",
       "0                                     Beds   \n",
       "1                             Slow Cookers   \n",
       "2                             Slow Cookers   \n",
       "3             Slicers, Peelers And Graters   \n",
       "4                               Door Knobs   \n",
       "...                                    ...   \n",
       "42989                        Shower Panels   \n",
       "42990                    Dining Table Sets   \n",
       "42991                    Dining Table Sets   \n",
       "42992  Teen Lounge Furniture|Accent Chairs   \n",
       "42993                           Bar Stools   \n",
       "\n",
       "                                      category hierarchy  \\\n",
       "0      Furniture / Bedroom Furniture / Beds & Headboa...   \n",
       "1      Kitchen & Tabletop / Small Kitchen Appliances ...   \n",
       "2      Kitchen & Tabletop / Small Kitchen Appliances ...   \n",
       "3                             Browse By Brand / All-Clad   \n",
       "4      Home Improvement / Doors & Door Hardware / Doo...   \n",
       "...                                                  ...   \n",
       "42989  Home Improvement / Bathroom Remodel & Bathroom...   \n",
       "42990  Furniture / Kitchen & Dining Furniture / Dinin...   \n",
       "42991  Furniture / Kitchen & Dining Furniture / Dinin...   \n",
       "42992  Furniture / Living Room Furniture / Chairs & S...   \n",
       "42993  Furniture / Kitchen & Dining Furniture / Bar F...   \n",
       "\n",
       "                                     product_description  \\\n",
       "0      good , deep sleep can be quite difficult to ha...   \n",
       "1      create delicious slow-cooked meals , from tend...   \n",
       "2      prepare home-cooked meals on any schedule with...   \n",
       "3      this original stainless tool was designed to c...   \n",
       "4      the hardware has a rich heritage of delivering...   \n",
       "...                                                  ...   \n",
       "42989  the malibu pressure balanced diverter fixed sh...   \n",
       "42990                                                NaN   \n",
       "42991  this pub table set includes 1 counter height t...   \n",
       "42992  bring iconic , modern style to your space in a...   \n",
       "42993  this set of two barstools features a minimalis...   \n",
       "\n",
       "                                        product_features  rating_count  \\\n",
       "0      overallwidth-sidetoside:64.7|dsprimaryproducts...          15.0   \n",
       "1      capacityquarts:7|producttype : slow cooker|pro...         100.0   \n",
       "2      features : keep warm setting|capacityquarts:6....         208.0   \n",
       "3      overallwidth-sidetoside:3.5|warrantylength : l...          69.0   \n",
       "4      compatibledoorthickness:1.375 '' |countryofori...          70.0   \n",
       "...                                                  ...           ...   \n",
       "42989  producttype : shower panel|spraypattern : rain...           3.0   \n",
       "42990  basematerialdetails : steel| : gray wood|ofhar...        1314.0   \n",
       "42991  additionaltoolsrequirednotincluded : power dri...          49.0   \n",
       "42992  legmaterialdetails : rubberwood|backheight-sea...        1746.0   \n",
       "42993  distancebetweenfloorandfootrest:7.5|dssecondar...          20.0   \n",
       "\n",
       "       average_rating  review_count  \n",
       "0                 4.5          15.0  \n",
       "1                 2.0          98.0  \n",
       "2                 3.0         181.0  \n",
       "3                 4.5          42.0  \n",
       "4                 5.0          42.0  \n",
       "...               ...           ...  \n",
       "42989             4.5           2.0  \n",
       "42990             4.5         864.0  \n",
       "42991             4.0          41.0  \n",
       "42992             4.5        1226.0  \n",
       "42993             4.5          20.0  \n",
       "\n",
       "[42994 rows x 9 columns]"
      ]
     },
     "execution_count": 4,
     "metadata": {},
     "output_type": "execute_result"
    }
   ],
   "source": [
    "product_df = pd.read_csv(\"WANDS/dataset/product.csv\", sep='\\t')\n",
    "product_df"
   ]
  },
  {
   "cell_type": "markdown",
   "id": "31860335-2d7d-4599-8421-936e2590bd7e",
   "metadata": {},
   "source": [
    "### Create index"
   ]
  },
  {
   "cell_type": "code",
   "execution_count": 41,
   "id": "12dfda6d-1334-4b4f-8a76-6831c1f90b0d",
   "metadata": {},
   "outputs": [
    {
     "data": {
      "text/plain": [
       "<Response [200]>"
      ]
     },
     "execution_count": 41,
     "metadata": {},
     "output_type": "execute_result"
    }
   ],
   "source": [
    "requests.put(\n",
    "    WANDS_INDEX,\n",
    "    json={\n",
    "        \"mappings\": {\n",
    "            \"properties\": {\n",
    "                \"name\": {\n",
    "                    \"type\": \"text\"\n",
    "                },\n",
    "                \"description\": {\n",
    "                    \"type\": \"text\"\n",
    "                }\n",
    "            }\n",
    "        }\n",
    "    }\n",
    ")\n"
   ]
  },
  {
   "cell_type": "markdown",
   "id": "c4306bf1-f0a7-41fd-a5b7-b71c81a23b00",
   "metadata": {},
   "source": [
    "### Index data"
   ]
  },
  {
   "cell_type": "code",
   "execution_count": 42,
   "id": "81a489bc-474b-4feb-8564-76f15c17f70e",
   "metadata": {},
   "outputs": [],
   "source": [
    "def index_record(id, name, description):\n",
    "    if id and name and description:\n",
    "        try:\n",
    "            return requests.post(\n",
    "                f\"{WANDS_INDEX}/_doc/{id}\",\n",
    "                json={\n",
    "                    'name': name,\n",
    "                    'description': description    \n",
    "                }\n",
    "            )\n",
    "        except:\n",
    "            pass"
   ]
  },
  {
   "cell_type": "code",
   "execution_count": 43,
   "id": "383e8d62-9c6b-44a4-866f-a429bf4dd2bc",
   "metadata": {},
   "outputs": [
    {
     "name": "stderr",
     "output_type": "stream",
     "text": [
      "100%|███████████████████████████████████████████████████████████████| 42994/42994 [01:36<00:00, 446.24it/s]\n"
     ]
    }
   ],
   "source": [
    "for index, row in tqdm(product_df.iterrows(), total=len(product_df)):\n",
    "    _ = index_record(row['product_id'], row['product_name'], row['product_description'])"
   ]
  },
  {
   "cell_type": "code",
   "execution_count": 44,
   "id": "0ade9375-f187-4b94-89de-d1dfc48142e4",
   "metadata": {},
   "outputs": [
    {
     "data": {
      "text/plain": [
       "{'took': 266,\n",
       " 'timed_out': False,\n",
       " 'terminated_early': False,\n",
       " '_shards': {'total': 1, 'successful': 1, 'skipped': 0, 'failed': 0},\n",
       " 'hits': {'total': {'value': 36985, 'relation': 'eq'},\n",
       "  'max_score': None,\n",
       "  'hits': []}}"
      ]
     },
     "execution_count": 44,
     "metadata": {},
     "output_type": "execute_result"
    }
   ],
   "source": [
    "response = requests.post(\n",
    "    f\"{WANDS_INDEX}/_search\",\n",
    "    json={\n",
    "        \"size\": 0,\n",
    "        \"track_total_hits\": True\n",
    "    }\n",
    ")\n",
    "response.json()"
   ]
  },
  {
   "cell_type": "markdown",
   "id": "866067de-17e5-469c-ab12-f925bd36acbb",
   "metadata": {},
   "source": [
    "## Tests"
   ]
  },
  {
   "cell_type": "markdown",
   "id": "acbbb8dc-56fd-4038-ac6c-e4a43f799f2f",
   "metadata": {},
   "source": [
    "### Create team"
   ]
  },
  {
   "cell_type": "code",
   "execution_count": 45,
   "id": "ef0a3c78-ce6b-4772-8781-758ffc577bdc",
   "metadata": {},
   "outputs": [],
   "source": [
    "team = requests.post(\n",
    "    'http://localhost:8081/api/teams/', \n",
    "    headers = {\n",
    "        \"Authorization\": f\"Bearer {QUEPID_TOKEN}\"\n",
    "    },\n",
    "    json={\n",
    "        \"name\": \"wands\"\n",
    "    }   \n",
    ")\n",
    "\n",
    "team = team.json()"
   ]
  },
  {
   "cell_type": "code",
   "execution_count": 46,
   "id": "e120263c-5504-4f24-86bb-ca119b5af341",
   "metadata": {},
   "outputs": [
    {
     "data": {
      "text/plain": [
       "{'id': 1,\n",
       " 'name': 'wands',\n",
       " 'created_at': '2025-07-06T18:05:09.014Z',\n",
       " 'updated_at': '2025-07-06T18:05:09.014Z'}"
      ]
     },
     "execution_count": 46,
     "metadata": {},
     "output_type": "execute_result"
    }
   ],
   "source": [
    "team"
   ]
  },
  {
   "cell_type": "markdown",
   "id": "dc216242-7267-4fa4-806d-8f41d96e33e4",
   "metadata": {},
   "source": [
    "### Create search endpoint"
   ]
  },
  {
   "cell_type": "code",
   "execution_count": 47,
   "id": "f41d8ad1-131f-4353-9ac5-bbfbab194714",
   "metadata": {},
   "outputs": [],
   "source": [
    "endpoint = requests.post(\n",
    "    'http://localhost:8081/api/search_endpoints/', \n",
    "    headers = {\n",
    "        \"Authorization\": f\"Bearer {QUEPID_TOKEN}\"\n",
    "    },\n",
    "    json={\n",
    "        \"name\": \"wands\",\n",
    "        \"endpoint_url\": f\"{WANDS_INDEX}/_search\",\n",
    "        \"search_engine\": \"es\",\n",
    "        \"api_method\": \"POST\",\n",
    "        \"proxy_requests\": 1,   \n",
    "    }   \n",
    ")\n",
    "\n",
    "endpoint = endpoint.json()\n"
   ]
  },
  {
   "cell_type": "code",
   "execution_count": 48,
   "id": "174402d8-189c-4e54-bf72-dd2c35c463e6",
   "metadata": {},
   "outputs": [
    {
     "data": {
      "text/plain": [
       "{'id': 1,\n",
       " 'name': 'wands',\n",
       " 'owner': 1,\n",
       " 'search_engine': 'es',\n",
       " 'endpoint_url': 'http://localhost:9200/wands/_search',\n",
       " 'api_method': 'POST',\n",
       " 'custom_headers': None,\n",
       " 'archived': 0,\n",
       " 'created_at': '2025-07-06T18:05:31.503Z',\n",
       " 'updated_at': '2025-07-06T18:05:31.503Z',\n",
       " 'basic_auth_credential': None,\n",
       " 'mapper_code': None,\n",
       " 'proxy_requests': 1,\n",
       " 'options': None}"
      ]
     },
     "execution_count": 48,
     "metadata": {},
     "output_type": "execute_result"
    }
   ],
   "source": [
    "endpoint"
   ]
  },
  {
   "cell_type": "markdown",
   "id": "acb3b03c-e38e-42d8-a96c-91422d12dbdc",
   "metadata": {},
   "source": [
    "### Create case"
   ]
  },
  {
   "cell_type": "code",
   "execution_count": 51,
   "id": "2bbd01ef-6d91-4081-a145-0bbd3de7be28",
   "metadata": {},
   "outputs": [],
   "source": [
    "case = requests.post(\n",
    "    'http://localhost:8081/api/case/', \n",
    "    headers = {\n",
    "        \"Authorization\": f\"Bearer {QUEPID_TOKEN}\"\n",
    "    },\n",
    "    json={\n",
    "        \"name\": \"wands\",\n",
    "        \"scorer_id\": 5,\n",
    "        \"book_id\": 0,\n",
    "        \"search_endpoint_id\": endpoint.get('id')\n",
    "    }   \n",
    ")\n",
    "\n",
    "case = case.json()"
   ]
  },
  {
   "cell_type": "code",
   "execution_count": 52,
   "id": "098d30f5-5c4a-4ea9-8f80-191522cc1cfe",
   "metadata": {},
   "outputs": [
    {
     "data": {
      "text/plain": [
       "{'id': 2,\n",
       " 'case_name': 'wands',\n",
       " 'last_try_number': 1,\n",
       " 'owner': 1,\n",
       " 'archived': 0,\n",
       " 'scorer_id': 5,\n",
       " 'created_at': '2025-07-06T18:06:31.262Z',\n",
       " 'updated_at': '2025-07-06T18:06:31.262Z',\n",
       " 'book_id': None,\n",
       " 'public': None,\n",
       " 'options': None,\n",
       " 'nightly': None}"
      ]
     },
     "execution_count": 52,
     "metadata": {},
     "output_type": "execute_result"
    }
   ],
   "source": [
    "case"
   ]
  },
  {
   "cell_type": "markdown",
   "id": "86167a88-b436-4603-a913-9c5596a2e828",
   "metadata": {},
   "source": [
    "### Create queries"
   ]
  },
  {
   "cell_type": "code",
   "execution_count": 56,
   "id": "34f2119a-15a2-43ef-b352-f5837e590276",
   "metadata": {},
   "outputs": [],
   "source": [
    "def add_query(case, query):\n",
    "    return requests.post(\n",
    "        f'http://localhost:8081/api/query/{case.get(\"id\")}/', \n",
    "        headers = {\n",
    "            \"Authorization\": f\"Bearer {QUEPID_TOKEN}\"\n",
    "        },\n",
    "        json={\n",
    "            \"query_text\": query\n",
    "        }   \n",
    "    )"
   ]
  },
  {
   "cell_type": "code",
   "execution_count": 57,
   "id": "9c98c62d-147f-478e-a186-dd46cea497ce",
   "metadata": {},
   "outputs": [
    {
     "name": "stderr",
     "output_type": "stream",
     "text": [
      "100%|███████████████████████████████████████████████████████████████████| 480/480 [00:03<00:00, 142.44it/s]\n"
     ]
    }
   ],
   "source": [
    "for index, row in tqdm(query_df.iterrows(), total=len(query_df)):\n",
    "    add_query(case, row['query'])"
   ]
  },
  {
   "cell_type": "code",
   "execution_count": null,
   "id": "0480f0b3-2edd-49c1-b69c-1bf05024f68f",
   "metadata": {},
   "outputs": [],
   "source": []
  }
 ],
 "metadata": {
  "kernelspec": {
   "display_name": "Python 3 (ipykernel)",
   "language": "python",
   "name": "python3"
  },
  "language_info": {
   "codemirror_mode": {
    "name": "ipython",
    "version": 3
   },
   "file_extension": ".py",
   "mimetype": "text/x-python",
   "name": "python",
   "nbconvert_exporter": "python",
   "pygments_lexer": "ipython3",
   "version": "3.12.9"
  }
 },
 "nbformat": 4,
 "nbformat_minor": 5
}
