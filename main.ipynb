{
 "cells": [
  {
   "cell_type": "markdown",
   "id": "354650a8-e02e-4c79-9e7b-7c417f25b8b8",
   "metadata": {
    "jp-MarkdownHeadingCollapsed": true
   },
   "source": [
    "## WANDS"
   ]
  },
  {
   "cell_type": "code",
   "execution_count": null,
   "id": "009700e3-5d80-41a2-a44d-ce4116df9ebc",
   "metadata": {},
   "outputs": [],
   "source": []
  },
  {
   "cell_type": "code",
   "execution_count": 1,
   "id": "1ff8e159-3722-40b9-b735-5213794446a5",
   "metadata": {},
   "outputs": [
    {
     "name": "stdout",
     "output_type": "stream",
     "text": [
      "Cloning into 'WANDS'...\n",
      "remote: Enumerating objects: 40, done.\u001b[K\n",
      "remote: Counting objects: 100% (19/19), done.\u001b[K\n",
      "remote: Compressing objects: 100% (16/16), done.\u001b[K\n",
      "remote: Total 40 (delta 6), reused 3 (delta 3), pack-reused 21 (from 1)\u001b[K\n",
      "Receiving objects: 100% (40/40), 33.32 MiB | 11.04 MiB/s, done.\n",
      "Resolving deltas: 100% (6/6), done.\n"
     ]
    }
   ],
   "source": [
    "!git clone https://github.com/wayfair/WANDS.git"
   ]
  },
  {
   "cell_type": "code",
   "execution_count": 6,
   "id": "42d71b91-13b2-430a-95a0-36567f4975b4",
   "metadata": {},
   "outputs": [
    {
     "name": "stdout",
     "output_type": "stream",
     "text": [
      "Requirement already satisfied: pandas in /Users/frutik/.pyenv/versions/3.12.9/lib/python3.12/site-packages (2.3.0)\n",
      "Requirement already satisfied: numpy>=1.26.0 in /Users/frutik/.pyenv/versions/3.12.9/lib/python3.12/site-packages (from pandas) (2.2.6)\n",
      "Requirement already satisfied: python-dateutil>=2.8.2 in /Users/frutik/.pyenv/versions/3.12.9/lib/python3.12/site-packages (from pandas) (2.9.0.post0)\n",
      "Requirement already satisfied: pytz>=2020.1 in /Users/frutik/.pyenv/versions/3.12.9/lib/python3.12/site-packages (from pandas) (2025.2)\n",
      "Requirement already satisfied: tzdata>=2022.7 in /Users/frutik/.pyenv/versions/3.12.9/lib/python3.12/site-packages (from pandas) (2025.2)\n",
      "Requirement already satisfied: six>=1.5 in /Users/frutik/.pyenv/versions/3.12.9/lib/python3.12/site-packages (from python-dateutil>=2.8.2->pandas) (1.17.0)\n",
      "\n",
      "\u001b[1m[\u001b[0m\u001b[34;49mnotice\u001b[0m\u001b[1;39;49m]\u001b[0m\u001b[39;49m A new release of pip is available: \u001b[0m\u001b[31;49m25.0.1\u001b[0m\u001b[39;49m -> \u001b[0m\u001b[32;49m25.1.1\u001b[0m\n",
      "\u001b[1m[\u001b[0m\u001b[34;49mnotice\u001b[0m\u001b[1;39;49m]\u001b[0m\u001b[39;49m To update, run: \u001b[0m\u001b[32;49mpip install --upgrade pip\u001b[0m\n"
     ]
    }
   ],
   "source": [
    "!pip install pandas"
   ]
  },
  {
   "cell_type": "code",
   "execution_count": 7,
   "id": "39859386-6262-4f64-8c9e-ba984b057bcc",
   "metadata": {},
   "outputs": [],
   "source": [
    "import pandas as pd"
   ]
  },
  {
   "cell_type": "code",
   "execution_count": 8,
   "id": "a73c8c0d-829b-40fc-8384-eebaf72a8e68",
   "metadata": {},
   "outputs": [
    {
     "data": {
      "text/html": [
       "<div>\n",
       "<style scoped>\n",
       "    .dataframe tbody tr th:only-of-type {\n",
       "        vertical-align: middle;\n",
       "    }\n",
       "\n",
       "    .dataframe tbody tr th {\n",
       "        vertical-align: top;\n",
       "    }\n",
       "\n",
       "    .dataframe thead th {\n",
       "        text-align: right;\n",
       "    }\n",
       "</style>\n",
       "<table border=\"1\" class=\"dataframe\">\n",
       "  <thead>\n",
       "    <tr style=\"text-align: right;\">\n",
       "      <th></th>\n",
       "      <th>query_id</th>\n",
       "      <th>query</th>\n",
       "      <th>query_class</th>\n",
       "    </tr>\n",
       "  </thead>\n",
       "  <tbody>\n",
       "    <tr>\n",
       "      <th>0</th>\n",
       "      <td>0</td>\n",
       "      <td>salon chair</td>\n",
       "      <td>Massage Chairs</td>\n",
       "    </tr>\n",
       "    <tr>\n",
       "      <th>1</th>\n",
       "      <td>1</td>\n",
       "      <td>smart coffee table</td>\n",
       "      <td>Coffee &amp; Cocktail Tables</td>\n",
       "    </tr>\n",
       "    <tr>\n",
       "      <th>2</th>\n",
       "      <td>2</td>\n",
       "      <td>dinosaur</td>\n",
       "      <td>Kids Wall Décor</td>\n",
       "    </tr>\n",
       "    <tr>\n",
       "      <th>3</th>\n",
       "      <td>3</td>\n",
       "      <td>turquoise pillows</td>\n",
       "      <td>Accent Pillows</td>\n",
       "    </tr>\n",
       "    <tr>\n",
       "      <th>4</th>\n",
       "      <td>4</td>\n",
       "      <td>chair and a half recliner</td>\n",
       "      <td>Recliners</td>\n",
       "    </tr>\n",
       "    <tr>\n",
       "      <th>...</th>\n",
       "      <td>...</td>\n",
       "      <td>...</td>\n",
       "      <td>...</td>\n",
       "    </tr>\n",
       "    <tr>\n",
       "      <th>475</th>\n",
       "      <td>483</td>\n",
       "      <td>rustic twig</td>\n",
       "      <td>Faux Plants and Trees</td>\n",
       "    </tr>\n",
       "    <tr>\n",
       "      <th>476</th>\n",
       "      <td>484</td>\n",
       "      <td>nespresso vertuo next premium by breville with...</td>\n",
       "      <td>Espresso Machines</td>\n",
       "    </tr>\n",
       "    <tr>\n",
       "      <th>477</th>\n",
       "      <td>485</td>\n",
       "      <td>pedistole sink</td>\n",
       "      <td>Kitchen Sinks</td>\n",
       "    </tr>\n",
       "    <tr>\n",
       "      <th>478</th>\n",
       "      <td>486</td>\n",
       "      <td>54 in bench cushion</td>\n",
       "      <td>Furniture Cushions</td>\n",
       "    </tr>\n",
       "    <tr>\n",
       "      <th>479</th>\n",
       "      <td>487</td>\n",
       "      <td>rack glass</td>\n",
       "      <td>Candle Holders</td>\n",
       "    </tr>\n",
       "  </tbody>\n",
       "</table>\n",
       "<p>480 rows × 3 columns</p>\n",
       "</div>"
      ],
      "text/plain": [
       "     query_id                                              query  \\\n",
       "0           0                                        salon chair   \n",
       "1           1                                 smart coffee table   \n",
       "2           2                                           dinosaur   \n",
       "3           3                                  turquoise pillows   \n",
       "4           4                          chair and a half recliner   \n",
       "..        ...                                                ...   \n",
       "475       483                                        rustic twig   \n",
       "476       484  nespresso vertuo next premium by breville with...   \n",
       "477       485                                     pedistole sink   \n",
       "478       486                                54 in bench cushion   \n",
       "479       487                                         rack glass   \n",
       "\n",
       "                  query_class  \n",
       "0              Massage Chairs  \n",
       "1    Coffee & Cocktail Tables  \n",
       "2             Kids Wall Décor  \n",
       "3              Accent Pillows  \n",
       "4                   Recliners  \n",
       "..                        ...  \n",
       "475     Faux Plants and Trees  \n",
       "476         Espresso Machines  \n",
       "477             Kitchen Sinks  \n",
       "478        Furniture Cushions  \n",
       "479            Candle Holders  \n",
       "\n",
       "[480 rows x 3 columns]"
      ]
     },
     "execution_count": 8,
     "metadata": {},
     "output_type": "execute_result"
    }
   ],
   "source": [
    "query_df = pd.read_csv(\"WANDS/dataset/query.csv\", sep='\\t')\n",
    "query_df"
   ]
  },
  {
   "cell_type": "markdown",
   "id": "31860335-2d7d-4599-8421-936e2590bd7e",
   "metadata": {},
   "source": [
    "## Tests"
   ]
  },
  {
   "cell_type": "code",
   "execution_count": 10,
   "id": "030cc770-ebfa-4997-a0f5-d480ea87588f",
   "metadata": {},
   "outputs": [],
   "source": [
    "import requests"
   ]
  },
  {
   "cell_type": "code",
   "execution_count": 25,
   "id": "4fc08ae9-0c7b-4652-8671-96b8e1cd24f7",
   "metadata": {},
   "outputs": [],
   "source": [
    "QUEPID_TOKEN = '79d8d8c2106e4123b999b3d369adcab970622fafe1ca4ad75578bb730cf26155'"
   ]
  },
  {
   "cell_type": "markdown",
   "id": "acbbb8dc-56fd-4038-ac6c-e4a43f799f2f",
   "metadata": {},
   "source": [
    "### Create team"
   ]
  },
  {
   "cell_type": "code",
   "execution_count": 31,
   "id": "ef0a3c78-ce6b-4772-8781-758ffc577bdc",
   "metadata": {},
   "outputs": [
    {
     "data": {
      "text/plain": [
       "{'id': 3,\n",
       " 'name': 'wands',\n",
       " 'created_at': '2025-07-06T15:16:21.242Z',\n",
       " 'updated_at': '2025-07-06T15:16:21.242Z'}"
      ]
     },
     "execution_count": 31,
     "metadata": {},
     "output_type": "execute_result"
    }
   ],
   "source": [
    "team = requests.post(\n",
    "    'http://localhost:8081/api/teams/', \n",
    "    headers = {\n",
    "        \"Authorization\": f\"Bearer {QUEPID_TOKEN}\"\n",
    "    },\n",
    "    json={\n",
    "        \"name\": \"wands\"\n",
    "    }   \n",
    ")\n",
    "\n",
    "team = team.json()"
   ]
  },
  {
   "cell_type": "markdown",
   "id": "dc216242-7267-4fa4-806d-8f41d96e33e4",
   "metadata": {},
   "source": [
    "### Create team"
   ]
  },
  {
   "cell_type": "code",
   "execution_count": 53,
   "id": "f41d8ad1-131f-4353-9ac5-bbfbab194714",
   "metadata": {},
   "outputs": [],
   "source": [
    "endpoint = requests.post(\n",
    "    'http://localhost:8081/api/search_endpoints/', \n",
    "    headers = {\n",
    "        \"Authorization\": f\"Bearer {QUEPID_TOKEN}\"\n",
    "    },\n",
    "    json={\n",
    "        \"name\": \"wands\",\n",
    "        \"endpoint_url\": \"http://localhost:9200/\",\n",
    "        \"search_engine\": \"es\",\n",
    "        \"api_method\": \"POST\",\n",
    "        \"proxy_requests\": 1,   \n",
    "    }   \n",
    ")\n",
    "\n",
    "endpoint = endpoint.json()"
   ]
  },
  {
   "cell_type": "code",
   "execution_count": 54,
   "id": "174402d8-189c-4e54-bf72-dd2c35c463e6",
   "metadata": {},
   "outputs": [
    {
     "data": {
      "text/plain": [
       "{'id': 8,\n",
       " 'name': 'wands',\n",
       " 'owner': 1,\n",
       " 'search_engine': 'es',\n",
       " 'endpoint_url': 'http://localhost:9200/',\n",
       " 'api_method': 'POST',\n",
       " 'custom_headers': None,\n",
       " 'archived': 0,\n",
       " 'created_at': '2025-07-06T16:37:25.484Z',\n",
       " 'updated_at': '2025-07-06T16:37:25.484Z',\n",
       " 'basic_auth_credential': None,\n",
       " 'mapper_code': None,\n",
       " 'proxy_requests': None,\n",
       " 'options': None}"
      ]
     },
     "execution_count": 54,
     "metadata": {},
     "output_type": "execute_result"
    }
   ],
   "source": [
    "endpoint"
   ]
  },
  {
   "cell_type": "markdown",
   "id": "acb3b03c-e38e-42d8-a96c-91422d12dbdc",
   "metadata": {},
   "source": [
    "### Create case"
   ]
  },
  {
   "cell_type": "code",
   "execution_count": 56,
   "id": "2bbd01ef-6d91-4081-a145-0bbd3de7be28",
   "metadata": {},
   "outputs": [
    {
     "name": "stdout",
     "output_type": "stream",
     "text": [
      "<Response [200]> b'{\"id\": 28, \"case_name\": \"string 222\", \"last_try_number\": 1, \"owner\": 1, \"archived\": 0, \"scorer_id\": 5, \"created_at\": \"2025-07-06T16:38:23.849Z\", \"updated_at\": \"2025-07-06T16:38:23.849Z\", \"book_id\": null, \"public\": null, \"options\": null, \"nightly\": null}'\n"
     ]
    }
   ],
   "source": [
    "case = requests.post(\n",
    "    'http://localhost:8081/api/case/', \n",
    "    headers = {\n",
    "        \"Authorization\": f\"Bearer {QUEPID_TOKEN}\"\n",
    "    },\n",
    "    json={\n",
    "        \"name\": \"string 222\",\n",
    "        \"scorer_id\": 5,\n",
    "        \"book_id\": 0,\n",
    "        \"search_endpoint_id\": endpoint.get('id')\n",
    "    }   \n",
    ")\n",
    "\n",
    "print(case, case.content)\n",
    "\n",
    "case = case.json()"
   ]
  },
  {
   "cell_type": "code",
   "execution_count": 47,
   "id": "098d30f5-5c4a-4ea9-8f80-191522cc1cfe",
   "metadata": {},
   "outputs": [
    {
     "data": {
      "text/plain": [
       "<Response [502]>"
      ]
     },
     "execution_count": 47,
     "metadata": {},
     "output_type": "execute_result"
    }
   ],
   "source": [
    "case"
   ]
  },
  {
   "cell_type": "markdown",
   "id": "86167a88-b436-4603-a913-9c5596a2e828",
   "metadata": {},
   "source": [
    "### Create queries"
   ]
  },
  {
   "cell_type": "code",
   "execution_count": 57,
   "id": "34f2119a-15a2-43ef-b352-f5837e590276",
   "metadata": {},
   "outputs": [
    {
     "data": {
      "text/plain": [
       "{'query_options': {},\n",
       " 'id': 3,\n",
       " 'arranged_next': None,\n",
       " 'arranged_at': None,\n",
       " 'query_text': 'string 222',\n",
       " 'notes': '',\n",
       " 'case': 28,\n",
       " 'created_at': '2025-07-06T16:38:26.627Z',\n",
       " 'updated_at': '2025-07-06T16:38:26.627Z',\n",
       " 'information_need': ''}"
      ]
     },
     "execution_count": 57,
     "metadata": {},
     "output_type": "execute_result"
    }
   ],
   "source": [
    "query = requests.post(\n",
    "    f'http://localhost:8081/api/query/{case.get(\"id\")}/', \n",
    "    headers = {\n",
    "        \"Authorization\": f\"Bearer {QUEPID_TOKEN}\"\n",
    "    },\n",
    "    json={\n",
    "        \"query_text\": \"string 222\"\n",
    "    }   \n",
    ")\n",
    "\n",
    "query = query.json()\n",
    "query"
   ]
  },
  {
   "cell_type": "code",
   "execution_count": null,
   "id": "0480f0b3-2edd-49c1-b69c-1bf05024f68f",
   "metadata": {},
   "outputs": [],
   "source": []
  }
 ],
 "metadata": {
  "kernelspec": {
   "display_name": "Python 3 (ipykernel)",
   "language": "python",
   "name": "python3"
  },
  "language_info": {
   "codemirror_mode": {
    "name": "ipython",
    "version": 3
   },
   "file_extension": ".py",
   "mimetype": "text/x-python",
   "name": "python",
   "nbconvert_exporter": "python",
   "pygments_lexer": "ipython3",
   "version": "3.12.9"
  }
 },
 "nbformat": 4,
 "nbformat_minor": 5
}
