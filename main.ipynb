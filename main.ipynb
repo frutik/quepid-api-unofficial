{
 "cells": [
  {
   "cell_type": "markdown",
   "id": "f23c4ce1-d1f8-46f4-bb04-90b9298fbcb8",
   "metadata": {
    "jp-MarkdownHeadingCollapsed": true
   },
   "source": [
    "## Testing WANDS in Quepid via API\n",
    "\n",
    "Objective:\n",
    "\n",
    "Set up a local Quepid instance and programmatically load the WANDS dataset into Quepid as one or more cases."
   ]
  },
  {
   "cell_type": "markdown",
   "id": "713954ef-a01f-48c4-b092-607384177a15",
   "metadata": {},
   "source": [
    "## Initial set up of Quepid and custom API"
   ]
  },
  {
   "cell_type": "markdown",
   "id": "03f6da62-74b2-4744-8d48-a9c0f42eb813",
   "metadata": {},
   "source": [
    "`docker compose build`\n",
    "\n",
    "`cp .env.example .env`\n",
    "\n",
    "`vi .env`\n",
    "\n",
    "`docker compose run quepid-api-quepid bin/rake db:migrate`\n",
    "\n",
    "`docker compose run quepid-api-quepid bin/rake db:seed`\n",
    "\n",
    "`docker compose run quepid-api-quepid bundle exec thor user:create -a admin@example.com \"Admin User\" supersecret`\n",
    "\n",
    "`docker compose run quepid-api-quepid bundle exec thor user:add_api_key admin@example.com`"
   ]
  },
  {
   "cell_type": "markdown",
   "id": "5a458bd2-331b-4f1d-8edb-7fa31c73fff8",
   "metadata": {},
   "source": [
    "Or folllow more detailed instrutions in [README](https://github.com/frutik/quepid-api-unofficial?tab=readme-ov-file#run-locally-connecting-to-local-quepid)\n",
    "\n",
    "When you create API key, store it and use later in this notebook.\n",
    "\n",
    "- for api: http://localhost:8081/api/docs\n",
    "- for quepid: http://localhost:3000/"
   ]
  },
  {
   "cell_type": "markdown",
   "id": "fa406142-84c8-407b-b088-f39678c43f88",
   "metadata": {},
   "source": [
    "#### Config"
   ]
  },
  {
   "cell_type": "code",
   "execution_count": 1,
   "id": "f8db1b10-2a1b-4f97-9fc6-b81e7f318c53",
   "metadata": {},
   "outputs": [],
   "source": [
    "WANDS_INDEX = 'http://localhost:9200/wands'\n",
    "QUEPID_TOKEN = 'aead3c86f788688d86e06ebc9c5ed24e717d72922a35b231a189cf6847f4a1b3'  # past the token you created earlier\n",
    "AUTH = {\n",
    "    \"Authorization\": f\"Bearer {QUEPID_TOKEN}\"\n",
    "}"
   ]
  },
  {
   "cell_type": "markdown",
   "id": "7537fb36-3276-43d6-9d44-b60f567456d0",
   "metadata": {},
   "source": [
    "## Python dependencis"
   ]
  },
  {
   "cell_type": "code",
   "execution_count": 3,
   "id": "1ff8e159-3722-40b9-b735-5213794446a5",
   "metadata": {},
   "outputs": [
    {
     "name": "stdout",
     "output_type": "stream",
     "text": [
      "fatal: destination path 'WANDS' already exists and is not an empty directory.\n"
     ]
    }
   ],
   "source": [
    "!pip install pandas requests tqdm"
   ]
  },
  {
   "cell_type": "code",
   "execution_count": 2,
   "id": "b2e5c5c7-be2e-4f5b-954e-0904fa8ca833",
   "metadata": {},
   "outputs": [],
   "source": [
    "import requests\n",
    "import json\n",
    "\n",
    "from tqdm import tqdm\n",
    "import pandas as pd"
   ]
  },
  {
   "cell_type": "markdown",
   "id": "bc1a8fd2-e161-4056-95bf-701d21c68083",
   "metadata": {},
   "source": [
    "## WANDS"
   ]
  },
  {
   "cell_type": "markdown",
   "id": "e6b62800-3506-4367-b1d0-0c658031b7ca",
   "metadata": {},
   "source": [
    "WANDS is a human-annotated dataset from Wayfair for evaluating product search relevance. It includes 480 queries, ~43K products, and 233K query-product relevance labels (Exact, Partial, Irrelevant), plus rich product metadata—ideal for training and benchmarking search models."
   ]
  },
  {
   "cell_type": "code",
   "execution_count": 3,
   "id": "c4a00303-4748-4454-9c70-d49145441553",
   "metadata": {},
   "outputs": [
    {
     "name": "stdout",
     "output_type": "stream",
     "text": [
      "fatal: destination path 'WANDS' already exists and is not an empty directory.\n"
     ]
    }
   ],
   "source": [
    "!git clone https://github.com/wayfair/WANDS.git"
   ]
  },
  {
   "cell_type": "code",
   "execution_count": 3,
   "id": "a73c8c0d-829b-40fc-8384-eebaf72a8e68",
   "metadata": {},
   "outputs": [
    {
     "data": {
      "text/html": [
       "<div>\n",
       "<style scoped>\n",
       "    .dataframe tbody tr th:only-of-type {\n",
       "        vertical-align: middle;\n",
       "    }\n",
       "\n",
       "    .dataframe tbody tr th {\n",
       "        vertical-align: top;\n",
       "    }\n",
       "\n",
       "    .dataframe thead th {\n",
       "        text-align: right;\n",
       "    }\n",
       "</style>\n",
       "<table border=\"1\" class=\"dataframe\">\n",
       "  <thead>\n",
       "    <tr style=\"text-align: right;\">\n",
       "      <th></th>\n",
       "      <th>query_id</th>\n",
       "      <th>query</th>\n",
       "      <th>query_class</th>\n",
       "    </tr>\n",
       "  </thead>\n",
       "  <tbody>\n",
       "    <tr>\n",
       "      <th>0</th>\n",
       "      <td>0</td>\n",
       "      <td>salon chair</td>\n",
       "      <td>Massage Chairs</td>\n",
       "    </tr>\n",
       "    <tr>\n",
       "      <th>1</th>\n",
       "      <td>1</td>\n",
       "      <td>smart coffee table</td>\n",
       "      <td>Coffee &amp; Cocktail Tables</td>\n",
       "    </tr>\n",
       "    <tr>\n",
       "      <th>2</th>\n",
       "      <td>2</td>\n",
       "      <td>dinosaur</td>\n",
       "      <td>Kids Wall Décor</td>\n",
       "    </tr>\n",
       "    <tr>\n",
       "      <th>3</th>\n",
       "      <td>3</td>\n",
       "      <td>turquoise pillows</td>\n",
       "      <td>Accent Pillows</td>\n",
       "    </tr>\n",
       "    <tr>\n",
       "      <th>4</th>\n",
       "      <td>4</td>\n",
       "      <td>chair and a half recliner</td>\n",
       "      <td>Recliners</td>\n",
       "    </tr>\n",
       "    <tr>\n",
       "      <th>...</th>\n",
       "      <td>...</td>\n",
       "      <td>...</td>\n",
       "      <td>...</td>\n",
       "    </tr>\n",
       "    <tr>\n",
       "      <th>475</th>\n",
       "      <td>483</td>\n",
       "      <td>rustic twig</td>\n",
       "      <td>Faux Plants and Trees</td>\n",
       "    </tr>\n",
       "    <tr>\n",
       "      <th>476</th>\n",
       "      <td>484</td>\n",
       "      <td>nespresso vertuo next premium by breville with...</td>\n",
       "      <td>Espresso Machines</td>\n",
       "    </tr>\n",
       "    <tr>\n",
       "      <th>477</th>\n",
       "      <td>485</td>\n",
       "      <td>pedistole sink</td>\n",
       "      <td>Kitchen Sinks</td>\n",
       "    </tr>\n",
       "    <tr>\n",
       "      <th>478</th>\n",
       "      <td>486</td>\n",
       "      <td>54 in bench cushion</td>\n",
       "      <td>Furniture Cushions</td>\n",
       "    </tr>\n",
       "    <tr>\n",
       "      <th>479</th>\n",
       "      <td>487</td>\n",
       "      <td>rack glass</td>\n",
       "      <td>Candle Holders</td>\n",
       "    </tr>\n",
       "  </tbody>\n",
       "</table>\n",
       "<p>480 rows × 3 columns</p>\n",
       "</div>"
      ],
      "text/plain": [
       "     query_id                                              query  \\\n",
       "0           0                                        salon chair   \n",
       "1           1                                 smart coffee table   \n",
       "2           2                                           dinosaur   \n",
       "3           3                                  turquoise pillows   \n",
       "4           4                          chair and a half recliner   \n",
       "..        ...                                                ...   \n",
       "475       483                                        rustic twig   \n",
       "476       484  nespresso vertuo next premium by breville with...   \n",
       "477       485                                     pedistole sink   \n",
       "478       486                                54 in bench cushion   \n",
       "479       487                                         rack glass   \n",
       "\n",
       "                  query_class  \n",
       "0              Massage Chairs  \n",
       "1    Coffee & Cocktail Tables  \n",
       "2             Kids Wall Décor  \n",
       "3              Accent Pillows  \n",
       "4                   Recliners  \n",
       "..                        ...  \n",
       "475     Faux Plants and Trees  \n",
       "476         Espresso Machines  \n",
       "477             Kitchen Sinks  \n",
       "478        Furniture Cushions  \n",
       "479            Candle Holders  \n",
       "\n",
       "[480 rows x 3 columns]"
      ]
     },
     "execution_count": 3,
     "metadata": {},
     "output_type": "execute_result"
    }
   ],
   "source": [
    "query_df = pd.read_csv(\"WANDS/dataset/query.csv\", sep='\\t')\n",
    "query_df"
   ]
  },
  {
   "cell_type": "code",
   "execution_count": 4,
   "id": "c3cb46c1-bafe-49c2-b472-f1ba54ca4122",
   "metadata": {},
   "outputs": [
    {
     "data": {
      "text/html": [
       "<div>\n",
       "<style scoped>\n",
       "    .dataframe tbody tr th:only-of-type {\n",
       "        vertical-align: middle;\n",
       "    }\n",
       "\n",
       "    .dataframe tbody tr th {\n",
       "        vertical-align: top;\n",
       "    }\n",
       "\n",
       "    .dataframe thead th {\n",
       "        text-align: right;\n",
       "    }\n",
       "</style>\n",
       "<table border=\"1\" class=\"dataframe\">\n",
       "  <thead>\n",
       "    <tr style=\"text-align: right;\">\n",
       "      <th></th>\n",
       "      <th>product_id</th>\n",
       "      <th>product_name</th>\n",
       "      <th>product_class</th>\n",
       "      <th>category hierarchy</th>\n",
       "      <th>product_description</th>\n",
       "      <th>product_features</th>\n",
       "      <th>rating_count</th>\n",
       "      <th>average_rating</th>\n",
       "      <th>review_count</th>\n",
       "    </tr>\n",
       "  </thead>\n",
       "  <tbody>\n",
       "    <tr>\n",
       "      <th>0</th>\n",
       "      <td>0</td>\n",
       "      <td>solid wood platform bed</td>\n",
       "      <td>Beds</td>\n",
       "      <td>Furniture / Bedroom Furniture / Beds &amp; Headboa...</td>\n",
       "      <td>good , deep sleep can be quite difficult to ha...</td>\n",
       "      <td>overallwidth-sidetoside:64.7|dsprimaryproducts...</td>\n",
       "      <td>15.0</td>\n",
       "      <td>4.5</td>\n",
       "      <td>15.0</td>\n",
       "    </tr>\n",
       "    <tr>\n",
       "      <th>1</th>\n",
       "      <td>1</td>\n",
       "      <td>all-clad 7 qt . slow cooker</td>\n",
       "      <td>Slow Cookers</td>\n",
       "      <td>Kitchen &amp; Tabletop / Small Kitchen Appliances ...</td>\n",
       "      <td>create delicious slow-cooked meals , from tend...</td>\n",
       "      <td>capacityquarts:7|producttype : slow cooker|pro...</td>\n",
       "      <td>100.0</td>\n",
       "      <td>2.0</td>\n",
       "      <td>98.0</td>\n",
       "    </tr>\n",
       "    <tr>\n",
       "      <th>2</th>\n",
       "      <td>2</td>\n",
       "      <td>all-clad electrics 6.5 qt . slow cooker</td>\n",
       "      <td>Slow Cookers</td>\n",
       "      <td>Kitchen &amp; Tabletop / Small Kitchen Appliances ...</td>\n",
       "      <td>prepare home-cooked meals on any schedule with...</td>\n",
       "      <td>features : keep warm setting|capacityquarts:6....</td>\n",
       "      <td>208.0</td>\n",
       "      <td>3.0</td>\n",
       "      <td>181.0</td>\n",
       "    </tr>\n",
       "    <tr>\n",
       "      <th>3</th>\n",
       "      <td>3</td>\n",
       "      <td>all-clad all professional tools pizza cutter</td>\n",
       "      <td>Slicers, Peelers And Graters</td>\n",
       "      <td>Browse By Brand / All-Clad</td>\n",
       "      <td>this original stainless tool was designed to c...</td>\n",
       "      <td>overallwidth-sidetoside:3.5|warrantylength : l...</td>\n",
       "      <td>69.0</td>\n",
       "      <td>4.5</td>\n",
       "      <td>42.0</td>\n",
       "    </tr>\n",
       "    <tr>\n",
       "      <th>4</th>\n",
       "      <td>4</td>\n",
       "      <td>baldwin prestige alcott passage knob with roun...</td>\n",
       "      <td>Door Knobs</td>\n",
       "      <td>Home Improvement / Doors &amp; Door Hardware / Doo...</td>\n",
       "      <td>the hardware has a rich heritage of delivering...</td>\n",
       "      <td>compatibledoorthickness:1.375 '' |countryofori...</td>\n",
       "      <td>70.0</td>\n",
       "      <td>5.0</td>\n",
       "      <td>42.0</td>\n",
       "    </tr>\n",
       "    <tr>\n",
       "      <th>...</th>\n",
       "      <td>...</td>\n",
       "      <td>...</td>\n",
       "      <td>...</td>\n",
       "      <td>...</td>\n",
       "      <td>...</td>\n",
       "      <td>...</td>\n",
       "      <td>...</td>\n",
       "      <td>...</td>\n",
       "      <td>...</td>\n",
       "    </tr>\n",
       "    <tr>\n",
       "      <th>42989</th>\n",
       "      <td>42989</td>\n",
       "      <td>malibu pressure balanced diverter fixed shower...</td>\n",
       "      <td>Shower Panels</td>\n",
       "      <td>Home Improvement / Bathroom Remodel &amp; Bathroom...</td>\n",
       "      <td>the malibu pressure balanced diverter fixed sh...</td>\n",
       "      <td>producttype : shower panel|spraypattern : rain...</td>\n",
       "      <td>3.0</td>\n",
       "      <td>4.5</td>\n",
       "      <td>2.0</td>\n",
       "    </tr>\n",
       "    <tr>\n",
       "      <th>42990</th>\n",
       "      <td>42990</td>\n",
       "      <td>emmeline 5 piece breakfast dining set</td>\n",
       "      <td>Dining Table Sets</td>\n",
       "      <td>Furniture / Kitchen &amp; Dining Furniture / Dinin...</td>\n",
       "      <td>NaN</td>\n",
       "      <td>basematerialdetails : steel| : gray wood|ofhar...</td>\n",
       "      <td>1314.0</td>\n",
       "      <td>4.5</td>\n",
       "      <td>864.0</td>\n",
       "    </tr>\n",
       "    <tr>\n",
       "      <th>42991</th>\n",
       "      <td>42991</td>\n",
       "      <td>maloney 3 piece pub table set</td>\n",
       "      <td>Dining Table Sets</td>\n",
       "      <td>Furniture / Kitchen &amp; Dining Furniture / Dinin...</td>\n",
       "      <td>this pub table set includes 1 counter height t...</td>\n",
       "      <td>additionaltoolsrequirednotincluded : power dri...</td>\n",
       "      <td>49.0</td>\n",
       "      <td>4.0</td>\n",
       "      <td>41.0</td>\n",
       "    </tr>\n",
       "    <tr>\n",
       "      <th>42992</th>\n",
       "      <td>42992</td>\n",
       "      <td>fletcher 27.5 '' wide polyester armchair</td>\n",
       "      <td>Teen Lounge Furniture|Accent Chairs</td>\n",
       "      <td>Furniture / Living Room Furniture / Chairs &amp; S...</td>\n",
       "      <td>bring iconic , modern style to your space in a...</td>\n",
       "      <td>legmaterialdetails : rubberwood|backheight-sea...</td>\n",
       "      <td>1746.0</td>\n",
       "      <td>4.5</td>\n",
       "      <td>1226.0</td>\n",
       "    </tr>\n",
       "    <tr>\n",
       "      <th>42993</th>\n",
       "      <td>42993</td>\n",
       "      <td>griffin 29 '' bar stool</td>\n",
       "      <td>Bar Stools</td>\n",
       "      <td>Furniture / Kitchen &amp; Dining Furniture / Bar F...</td>\n",
       "      <td>this set of two barstools features a minimalis...</td>\n",
       "      <td>distancebetweenfloorandfootrest:7.5|dssecondar...</td>\n",
       "      <td>20.0</td>\n",
       "      <td>4.5</td>\n",
       "      <td>20.0</td>\n",
       "    </tr>\n",
       "  </tbody>\n",
       "</table>\n",
       "<p>42994 rows × 9 columns</p>\n",
       "</div>"
      ],
      "text/plain": [
       "       product_id                                       product_name  \\\n",
       "0               0                            solid wood platform bed   \n",
       "1               1                        all-clad 7 qt . slow cooker   \n",
       "2               2            all-clad electrics 6.5 qt . slow cooker   \n",
       "3               3       all-clad all professional tools pizza cutter   \n",
       "4               4  baldwin prestige alcott passage knob with roun...   \n",
       "...           ...                                                ...   \n",
       "42989       42989  malibu pressure balanced diverter fixed shower...   \n",
       "42990       42990              emmeline 5 piece breakfast dining set   \n",
       "42991       42991                      maloney 3 piece pub table set   \n",
       "42992       42992           fletcher 27.5 '' wide polyester armchair   \n",
       "42993       42993                            griffin 29 '' bar stool   \n",
       "\n",
       "                             product_class  \\\n",
       "0                                     Beds   \n",
       "1                             Slow Cookers   \n",
       "2                             Slow Cookers   \n",
       "3             Slicers, Peelers And Graters   \n",
       "4                               Door Knobs   \n",
       "...                                    ...   \n",
       "42989                        Shower Panels   \n",
       "42990                    Dining Table Sets   \n",
       "42991                    Dining Table Sets   \n",
       "42992  Teen Lounge Furniture|Accent Chairs   \n",
       "42993                           Bar Stools   \n",
       "\n",
       "                                      category hierarchy  \\\n",
       "0      Furniture / Bedroom Furniture / Beds & Headboa...   \n",
       "1      Kitchen & Tabletop / Small Kitchen Appliances ...   \n",
       "2      Kitchen & Tabletop / Small Kitchen Appliances ...   \n",
       "3                             Browse By Brand / All-Clad   \n",
       "4      Home Improvement / Doors & Door Hardware / Doo...   \n",
       "...                                                  ...   \n",
       "42989  Home Improvement / Bathroom Remodel & Bathroom...   \n",
       "42990  Furniture / Kitchen & Dining Furniture / Dinin...   \n",
       "42991  Furniture / Kitchen & Dining Furniture / Dinin...   \n",
       "42992  Furniture / Living Room Furniture / Chairs & S...   \n",
       "42993  Furniture / Kitchen & Dining Furniture / Bar F...   \n",
       "\n",
       "                                     product_description  \\\n",
       "0      good , deep sleep can be quite difficult to ha...   \n",
       "1      create delicious slow-cooked meals , from tend...   \n",
       "2      prepare home-cooked meals on any schedule with...   \n",
       "3      this original stainless tool was designed to c...   \n",
       "4      the hardware has a rich heritage of delivering...   \n",
       "...                                                  ...   \n",
       "42989  the malibu pressure balanced diverter fixed sh...   \n",
       "42990                                                NaN   \n",
       "42991  this pub table set includes 1 counter height t...   \n",
       "42992  bring iconic , modern style to your space in a...   \n",
       "42993  this set of two barstools features a minimalis...   \n",
       "\n",
       "                                        product_features  rating_count  \\\n",
       "0      overallwidth-sidetoside:64.7|dsprimaryproducts...          15.0   \n",
       "1      capacityquarts:7|producttype : slow cooker|pro...         100.0   \n",
       "2      features : keep warm setting|capacityquarts:6....         208.0   \n",
       "3      overallwidth-sidetoside:3.5|warrantylength : l...          69.0   \n",
       "4      compatibledoorthickness:1.375 '' |countryofori...          70.0   \n",
       "...                                                  ...           ...   \n",
       "42989  producttype : shower panel|spraypattern : rain...           3.0   \n",
       "42990  basematerialdetails : steel| : gray wood|ofhar...        1314.0   \n",
       "42991  additionaltoolsrequirednotincluded : power dri...          49.0   \n",
       "42992  legmaterialdetails : rubberwood|backheight-sea...        1746.0   \n",
       "42993  distancebetweenfloorandfootrest:7.5|dssecondar...          20.0   \n",
       "\n",
       "       average_rating  review_count  \n",
       "0                 4.5          15.0  \n",
       "1                 2.0          98.0  \n",
       "2                 3.0         181.0  \n",
       "3                 4.5          42.0  \n",
       "4                 5.0          42.0  \n",
       "...               ...           ...  \n",
       "42989             4.5           2.0  \n",
       "42990             4.5         864.0  \n",
       "42991             4.0          41.0  \n",
       "42992             4.5        1226.0  \n",
       "42993             4.5          20.0  \n",
       "\n",
       "[42994 rows x 9 columns]"
      ]
     },
     "execution_count": 4,
     "metadata": {},
     "output_type": "execute_result"
    }
   ],
   "source": [
    "product_df = pd.read_csv(\"WANDS/dataset/product.csv\", sep='\\t')\n",
    "product_df"
   ]
  },
  {
   "cell_type": "code",
   "execution_count": 5,
   "id": "08744d13-2a31-486f-baee-91dd82d227d8",
   "metadata": {},
   "outputs": [
    {
     "data": {
      "text/html": [
       "<div>\n",
       "<style scoped>\n",
       "    .dataframe tbody tr th:only-of-type {\n",
       "        vertical-align: middle;\n",
       "    }\n",
       "\n",
       "    .dataframe tbody tr th {\n",
       "        vertical-align: top;\n",
       "    }\n",
       "\n",
       "    .dataframe thead th {\n",
       "        text-align: right;\n",
       "    }\n",
       "</style>\n",
       "<table border=\"1\" class=\"dataframe\">\n",
       "  <thead>\n",
       "    <tr style=\"text-align: right;\">\n",
       "      <th></th>\n",
       "      <th>id</th>\n",
       "      <th>query_id</th>\n",
       "      <th>product_id</th>\n",
       "      <th>label</th>\n",
       "    </tr>\n",
       "  </thead>\n",
       "  <tbody>\n",
       "    <tr>\n",
       "      <th>0</th>\n",
       "      <td>0</td>\n",
       "      <td>0</td>\n",
       "      <td>25434</td>\n",
       "      <td>Exact</td>\n",
       "    </tr>\n",
       "    <tr>\n",
       "      <th>1</th>\n",
       "      <td>1</td>\n",
       "      <td>0</td>\n",
       "      <td>12088</td>\n",
       "      <td>Irrelevant</td>\n",
       "    </tr>\n",
       "    <tr>\n",
       "      <th>2</th>\n",
       "      <td>2</td>\n",
       "      <td>0</td>\n",
       "      <td>42931</td>\n",
       "      <td>Exact</td>\n",
       "    </tr>\n",
       "    <tr>\n",
       "      <th>3</th>\n",
       "      <td>3</td>\n",
       "      <td>0</td>\n",
       "      <td>2636</td>\n",
       "      <td>Exact</td>\n",
       "    </tr>\n",
       "    <tr>\n",
       "      <th>4</th>\n",
       "      <td>4</td>\n",
       "      <td>0</td>\n",
       "      <td>42923</td>\n",
       "      <td>Exact</td>\n",
       "    </tr>\n",
       "    <tr>\n",
       "      <th>...</th>\n",
       "      <td>...</td>\n",
       "      <td>...</td>\n",
       "      <td>...</td>\n",
       "      <td>...</td>\n",
       "    </tr>\n",
       "    <tr>\n",
       "      <th>233443</th>\n",
       "      <td>234010</td>\n",
       "      <td>478</td>\n",
       "      <td>15439</td>\n",
       "      <td>Partial</td>\n",
       "    </tr>\n",
       "    <tr>\n",
       "      <th>233444</th>\n",
       "      <td>234011</td>\n",
       "      <td>478</td>\n",
       "      <td>451</td>\n",
       "      <td>Partial</td>\n",
       "    </tr>\n",
       "    <tr>\n",
       "      <th>233445</th>\n",
       "      <td>234012</td>\n",
       "      <td>478</td>\n",
       "      <td>30764</td>\n",
       "      <td>Irrelevant</td>\n",
       "    </tr>\n",
       "    <tr>\n",
       "      <th>233446</th>\n",
       "      <td>234013</td>\n",
       "      <td>478</td>\n",
       "      <td>16796</td>\n",
       "      <td>Partial</td>\n",
       "    </tr>\n",
       "    <tr>\n",
       "      <th>233447</th>\n",
       "      <td>234014</td>\n",
       "      <td>486</td>\n",
       "      <td>30764</td>\n",
       "      <td>Partial</td>\n",
       "    </tr>\n",
       "  </tbody>\n",
       "</table>\n",
       "<p>233448 rows × 4 columns</p>\n",
       "</div>"
      ],
      "text/plain": [
       "            id  query_id  product_id       label\n",
       "0            0         0       25434       Exact\n",
       "1            1         0       12088  Irrelevant\n",
       "2            2         0       42931       Exact\n",
       "3            3         0        2636       Exact\n",
       "4            4         0       42923       Exact\n",
       "...        ...       ...         ...         ...\n",
       "233443  234010       478       15439     Partial\n",
       "233444  234011       478         451     Partial\n",
       "233445  234012       478       30764  Irrelevant\n",
       "233446  234013       478       16796     Partial\n",
       "233447  234014       486       30764     Partial\n",
       "\n",
       "[233448 rows x 4 columns]"
      ]
     },
     "execution_count": 5,
     "metadata": {},
     "output_type": "execute_result"
    }
   ],
   "source": [
    "labels_df = pd.read_csv(\"WANDS/dataset/label.csv\", sep='\\t')\n",
    "labels_df"
   ]
  },
  {
   "cell_type": "markdown",
   "id": "31860335-2d7d-4599-8421-936e2590bd7e",
   "metadata": {},
   "source": [
    "## Set up Elasticsearch"
   ]
  },
  {
   "cell_type": "markdown",
   "id": "0ae3a1a6-73f1-407a-a252-2e1e1216f80a",
   "metadata": {},
   "source": [
    "### Create index"
   ]
  },
  {
   "cell_type": "code",
   "execution_count": 6,
   "id": "12dfda6d-1334-4b4f-8a76-6831c1f90b0d",
   "metadata": {},
   "outputs": [
    {
     "data": {
      "text/plain": [
       "{'acknowledged': True, 'shards_acknowledged': True, 'index': 'wands'}"
      ]
     },
     "execution_count": 6,
     "metadata": {},
     "output_type": "execute_result"
    }
   ],
   "source": [
    "idx = requests.put(\n",
    "    WANDS_INDEX,\n",
    "    json={\n",
    "        \"mappings\": {\n",
    "            \"properties\": {\n",
    "                \"name\": {\n",
    "                    \"type\": \"text\"\n",
    "                },\n",
    "                \"description\": {\n",
    "                    \"type\": \"text\"\n",
    "                }\n",
    "            }\n",
    "        }\n",
    "    }\n",
    ")\n",
    "idx.json()"
   ]
  },
  {
   "cell_type": "markdown",
   "id": "c4306bf1-f0a7-41fd-a5b7-b71c81a23b00",
   "metadata": {},
   "source": [
    "### Index products"
   ]
  },
  {
   "cell_type": "code",
   "execution_count": 7,
   "id": "81a489bc-474b-4feb-8564-76f15c17f70e",
   "metadata": {},
   "outputs": [],
   "source": [
    "def index_record(id, name, description):\n",
    "    if id and name and description:\n",
    "        try:\n",
    "            return requests.post(\n",
    "                f\"{WANDS_INDEX}/_doc/{id}\",\n",
    "                json={\n",
    "                    'name': name,\n",
    "                    'description': description    \n",
    "                }\n",
    "            )\n",
    "        except:\n",
    "            pass"
   ]
  },
  {
   "cell_type": "code",
   "execution_count": 8,
   "id": "383e8d62-9c6b-44a4-866f-a429bf4dd2bc",
   "metadata": {},
   "outputs": [
    {
     "name": "stderr",
     "output_type": "stream",
     "text": [
      "100%|████████████████████████████████████████████████████████████████████████████████████████████| 42994/42994 [02:25<00:00, 296.28it/s]\n"
     ]
    }
   ],
   "source": [
    "for index, row in tqdm(product_df.iterrows(), total=len(product_df)):\n",
    "    _ = index_record(row['product_id'], row['product_name'], row['product_description'])"
   ]
  },
  {
   "cell_type": "markdown",
   "id": "8b517cf3-33c2-4598-9a10-7fc2a5d37c0a",
   "metadata": {},
   "source": [
    "### Search in data"
   ]
  },
  {
   "cell_type": "code",
   "execution_count": 9,
   "id": "0ade9375-f187-4b94-89de-d1dfc48142e4",
   "metadata": {},
   "outputs": [
    {
     "data": {
      "text/plain": [
       "{'took': 172,\n",
       " 'timed_out': False,\n",
       " 'terminated_early': False,\n",
       " '_shards': {'total': 1, 'successful': 1, 'skipped': 0, 'failed': 0},\n",
       " 'hits': {'total': {'value': 36985, 'relation': 'eq'},\n",
       "  'max_score': None,\n",
       "  'hits': []}}"
      ]
     },
     "execution_count": 9,
     "metadata": {},
     "output_type": "execute_result"
    }
   ],
   "source": [
    "response = requests.post(\n",
    "    f\"{WANDS_INDEX}/_search\",\n",
    "    json={\n",
    "        \"size\": 0,\n",
    "        \"track_total_hits\": True\n",
    "    }\n",
    ")\n",
    "response.json()"
   ]
  },
  {
   "cell_type": "code",
   "execution_count": 10,
   "id": "d5606a82-c939-4104-9291-f4950ea2f6b7",
   "metadata": {},
   "outputs": [],
   "source": [
    "def search_query(query='#$query##'):\n",
    "    return {\n",
    "      \"query\": {\n",
    "        \"multi_match\": {\n",
    "          \"query\": query,\n",
    "          \"fields\": [f\"name\", \"description\"]\n",
    "        }\n",
    "      }\n",
    "    }\n",
    "\n",
    "\n",
    "def search_query_boosted(query='#$query##'):\n",
    "    return {\n",
    "      \"query\": {\n",
    "        \"multi_match\": {\n",
    "          \"query\": query,\n",
    "          \"fields\": [\"name^2\", \"description\"]\n",
    "        }\n",
    "      }\n",
    "    }\n",
    "\n",
    "\n",
    "def search(query):\n",
    "    response = requests.post(\n",
    "        f\"{WANDS_INDEX}/_search\",\n",
    "        json=search_query(query)\n",
    "    )\n",
    "    return response.json()"
   ]
  },
  {
   "cell_type": "code",
   "execution_count": 11,
   "id": "5a34a959-9a2f-4b81-b1ec-97597f55fa44",
   "metadata": {},
   "outputs": [
    {
     "data": {
      "text/plain": [
       "{'took': 39,\n",
       " 'timed_out': False,\n",
       " '_shards': {'total': 1, 'successful': 1, 'skipped': 0, 'failed': 0},\n",
       " 'hits': {'total': {'value': 131, 'relation': 'eq'},\n",
       "  'max_score': 11.643906,\n",
       "  'hits': [{'_index': 'wands',\n",
       "    '_id': '24094',\n",
       "    '_score': 11.643906,\n",
       "    '_source': {'name': 'dinosaur throw pillow',\n",
       "     'description': 'this dinosaur throw pillow is the plushiest and friendliest stuffed dinosaur you can find . dinosaur features bright and vibrant chenille accents .'}},\n",
       "   {'_index': 'wands',\n",
       "    '_id': '14418',\n",
       "    '_score': 11.423598,\n",
       "    '_source': {'name': 'dinosaur institute diy assemble dinosaur home toy appliance set',\n",
       "     'description': 'dinosaur institute diy assemble dinosaur home toy set perfect party supplies to feature : dinosaur playset : this great value dinosaur play is perfectly matched with the simulated dinosaur figurines , and the rich jurassic dinosaur period is immersed in a fascinating past . this is a complete set of 35pcs dinosaur action figures and scene accessories , as well as a compelling assemble dinosaur institute that can hone their exploration skills ! . dinosaur toys for kids : kids play & learn ! educate your toddlers , help them develop their imagination , patience , and perseverance with the top construction toy made for dino addicts ! it is an excellent educational toy that will teach your children cooperation with their friends or will keep them creatively entertained in their own room ! it is an amazing dinosaur simulator set for the children ’ s room , the playground , or the school , which will entertain your little adventurers on holidays or a rainy weekend ! . playmat : assemble dinosaur institute , material environmental protection durable . the pattern is clear , the color is bright , and the color does not fade . more beautiful after assembly , more playable . perfect gift : dinosaurs party favors , birthday party games , educational purposes , party decoration , dinosaur party supplies , handouts , or rewards . ideal party favor or gift for a dinosaur themed birthday party .'}},\n",
       "   {'_index': 'wands',\n",
       "    '_id': '36630',\n",
       "    '_score': 11.189707,\n",
       "    '_source': {'name': 'baby brachiosaurus dino egg statue',\n",
       "     'description': \"he 's practically dino-sized at birth because design toscano mighty baby dinosaur hatchling emerges from his oversized egg at over ! design toscano exclusive dinosaur sculpture is hand-painted one dinosaur piece at a time in naturalistic hues to capture each prehistoric detail from curved tail too long , angled dinosaur neck . design toscano jurassic baby beast is perfect hatching in the garden or given as a treasured prehistoric gift for any dinosaur lover .\"}},\n",
       "   {'_index': 'wands',\n",
       "    '_id': '21048',\n",
       "    '_score': 11.097403,\n",
       "    '_source': {'name': 'mod dinosaur 4 piece comforter set',\n",
       "     'description': 'this mod dinosaur 4 piece comforter set will help you create an incredible room for your child . this stylish designer mod dinosaur 4 piece comforter set uses a multicolored dinosaur print and a coordinating chevron prehistoric print . this collection uses the stylish colors . this wonderful mod dinosaur 4 piece comforter set will fit all standard twin size beds .'}},\n",
       "   {'_index': 'wands',\n",
       "    '_id': '36533',\n",
       "    '_score': 11.019369,\n",
       "    '_source': {'name': 'baby raptor dino egg statue',\n",
       "     'description': \"he 's practically dino-sized at birth because design toscano mighty baby dinosaur hatchling emerges from his oversized egg . design toscano exclusive , eoraptor dinosaur sculpture is cast in quality designer resin and hand-painted one dinosaur egg at a time in naturalistic hues to capture each prehistoric detail from curved two-tone neck to adorable pointed dinosaur tail . design toscano jurassic baby beast is perfect hatching in the garden or given as an eggceptional prehistoric gift for any dinosaur lover .\"}},\n",
       "   {'_index': 'wands',\n",
       "    '_id': '36631',\n",
       "    '_score': 11.019369,\n",
       "    '_source': {'name': 'baby tyrannosaurus rex dino egg sculpture',\n",
       "     'description': 'watch out , he bites ! design toscano mighty baby dinosaur hatchling emerges from his oversized egg with tiny teeth ready to tear up the modern world ! design toscano exclusive dinosaur sculpture is cast in quality designer resin and hand-painted one dinosaur piece at a time in naturalistic hues to capture each prehistoric detail from scaly reptile skin to textured dinosaur egg . design toscano jurassic baby beast is perfect hatching in the garden or given as a treasured prehistoric gift for any dinosaur lover !'}},\n",
       "   {'_index': 'wands',\n",
       "    '_id': '34735',\n",
       "    '_score': 11.012494,\n",
       "    '_source': {'name': 'dinosaur standup',\n",
       "     'description': 'decorate your dinosaur themed party with the dinosaur standup . combined with additional decor to complete the look .'}},\n",
       "   {'_index': 'wands',\n",
       "    '_id': '34737',\n",
       "    '_score': 10.960387,\n",
       "    '_source': {'name': 'dinosaur wall decor',\n",
       "     'description': 'decorate your dinosaur themed party with the dinosaur wall decor . combined with additional decor to complete the look .'}},\n",
       "   {'_index': 'wands',\n",
       "    '_id': '34736',\n",
       "    '_score': 10.857638,\n",
       "    '_source': {'name': '8 piece dinosaur standup set',\n",
       "     'description': 'decorate your dinosaur themed party with the 8 piece dinosaur standup set . combined with additional decor to complete the look .'}},\n",
       "   {'_index': 'wands',\n",
       "    '_id': '34739',\n",
       "    '_score': 10.857638,\n",
       "    '_source': {'name': 'dinosaur whirl set',\n",
       "     'description': 'decorate your dinosaur themed party with the 6 piece dinosaur whirl set . combined with additional decor to complete the look .'}}]}}"
      ]
     },
     "execution_count": 11,
     "metadata": {},
     "output_type": "execute_result"
    }
   ],
   "source": [
    "search('dinosaur')"
   ]
  },
  {
   "cell_type": "markdown",
   "id": "866067de-17e5-469c-ab12-f925bd36acbb",
   "metadata": {},
   "source": [
    "## Loading data into Quepid"
   ]
  },
  {
   "cell_type": "markdown",
   "id": "acbbb8dc-56fd-4038-ac6c-e4a43f799f2f",
   "metadata": {},
   "source": [
    "### Create team"
   ]
  },
  {
   "cell_type": "code",
   "execution_count": 12,
   "id": "ef0a3c78-ce6b-4772-8781-758ffc577bdc",
   "metadata": {},
   "outputs": [],
   "source": [
    "team = requests.post(\n",
    "    'http://localhost:8081/api/teams/', \n",
    "    headers = AUTH,\n",
    "    json={\n",
    "        \"name\": \"wands\"\n",
    "    }   \n",
    ")\n",
    "\n",
    "team = team.json()"
   ]
  },
  {
   "cell_type": "code",
   "execution_count": 13,
   "id": "e120263c-5504-4f24-86bb-ca119b5af341",
   "metadata": {},
   "outputs": [
    {
     "data": {
      "text/plain": [
       "{'id': 1,\n",
       " 'name': 'wands',\n",
       " 'created_at': '2025-07-20T15:42:44.041Z',\n",
       " 'updated_at': '2025-07-20T15:42:44.041Z'}"
      ]
     },
     "execution_count": 13,
     "metadata": {},
     "output_type": "execute_result"
    }
   ],
   "source": [
    "team"
   ]
  },
  {
   "cell_type": "markdown",
   "id": "dc216242-7267-4fa4-806d-8f41d96e33e4",
   "metadata": {},
   "source": [
    "### Create search endpoint"
   ]
  },
  {
   "cell_type": "code",
   "execution_count": 14,
   "id": "f41d8ad1-131f-4353-9ac5-bbfbab194714",
   "metadata": {},
   "outputs": [],
   "source": [
    "endpoint = requests.post(\n",
    "    'http://localhost:8081/api/search_endpoints/', \n",
    "    headers = AUTH,\n",
    "    json={\n",
    "        \"name\": \"wands\",\n",
    "        \"endpoint_url\": \"http://quepid-api-elasticsearch:9200/wands/_search\",\n",
    "        \"search_engine\": \"es\",\n",
    "        \"api_method\": \"POST\",\n",
    "        \"proxy_requests\": 1,   \n",
    "    }   \n",
    ")\n",
    "\n",
    "endpoint = endpoint.json()\n"
   ]
  },
  {
   "cell_type": "code",
   "execution_count": 59,
   "id": "174402d8-189c-4e54-bf72-dd2c35c463e6",
   "metadata": {},
   "outputs": [
    {
     "data": {
      "text/plain": [
       "{'id': 1,\n",
       " 'name': 'wands',\n",
       " 'owner': 1,\n",
       " 'search_engine': 'es',\n",
       " 'endpoint_url': 'http://quepid-api-elasticsearch:9200/wands/_search',\n",
       " 'api_method': 'POST',\n",
       " 'custom_headers': None,\n",
       " 'archived': 0,\n",
       " 'created_at': '2025-07-20T11:34:17.238Z',\n",
       " 'updated_at': '2025-07-20T11:34:17.238Z',\n",
       " 'basic_auth_credential': None,\n",
       " 'mapper_code': None,\n",
       " 'proxy_requests': 1,\n",
       " 'options': None}"
      ]
     },
     "execution_count": 59,
     "metadata": {},
     "output_type": "execute_result"
    }
   ],
   "source": [
    "endpoint"
   ]
  },
  {
   "cell_type": "markdown",
   "id": "57e46057-79ff-4969-ba2b-da71480f9e81",
   "metadata": {},
   "source": [
    "### Create cases"
   ]
  },
  {
   "cell_type": "code",
   "execution_count": 15,
   "id": "3e21c664-c8e6-4710-8978-6b731e5c8aa7",
   "metadata": {},
   "outputs": [
    {
     "data": {
      "text/plain": [
       "{1: 'nDCG@10',\n",
       " 2: 'DCG@10',\n",
       " 3: 'CG@10',\n",
       " 4: 'P@10',\n",
       " 5: 'AP@10',\n",
       " 6: 'RR@10',\n",
       " 7: 'ERR@10'}"
      ]
     },
     "execution_count": 15,
     "metadata": {},
     "output_type": "execute_result"
    }
   ],
   "source": [
    "# list scorers\n",
    "scorers = requests.get(\n",
    "    'http://localhost:8081/api/scorers/', \n",
    "    headers = AUTH\n",
    ")\n",
    "{s['id']: s['name'] for s in scorers.json()['items']}"
   ]
  },
  {
   "cell_type": "code",
   "execution_count": 16,
   "id": "2bbd01ef-6d91-4081-a145-0bbd3de7be28",
   "metadata": {},
   "outputs": [],
   "source": [
    "case1 = requests.post(\n",
    "    'http://localhost:8081/api/case/', \n",
    "    headers = AUTH,\n",
    "    json={\n",
    "        \"name\": \"wands\",\n",
    "        \"scorer_id\": 1,\n",
    "        \"book_id\": 0,\n",
    "        \"search_endpoint_id\": endpoint.get('id'),\n",
    "        \"search_query\": json.dumps(search_query())\n",
    "    }   \n",
    ")\n",
    "\n",
    "case2 = requests.post(\n",
    "    'http://localhost:8081/api/case/', \n",
    "    headers = AUTH,\n",
    "    json={\n",
    "        \"name\": \"wands boosted\",\n",
    "        \"scorer_id\": 1,\n",
    "        \"book_id\": 0,\n",
    "        \"search_endpoint_id\": endpoint.get('id'),\n",
    "        \"search_query\": json.dumps(search_query_boosted())\n",
    "    }   \n",
    ")\n",
    "\n",
    "case1 = case1.json()\n",
    "case2 = case2.json()"
   ]
  },
  {
   "cell_type": "code",
   "execution_count": 17,
   "id": "098d30f5-5c4a-4ea9-8f80-191522cc1cfe",
   "metadata": {},
   "outputs": [
    {
     "name": "stdout",
     "output_type": "stream",
     "text": [
      "{'id': 1, 'case_name': 'wands', 'last_try_number': 1, 'owner': 1, 'archived': 0, 'scorer_id': 1, 'created_at': '2025-07-20T15:43:01.072Z', 'updated_at': '2025-07-20T15:43:01.072Z', 'book_id': None, 'public': None, 'options': None, 'nightly': 1}\n",
      "{'id': 2, 'case_name': 'wands boosted', 'last_try_number': 1, 'owner': 1, 'archived': 0, 'scorer_id': 1, 'created_at': '2025-07-20T15:43:01.102Z', 'updated_at': '2025-07-20T15:43:01.102Z', 'book_id': None, 'public': None, 'options': None, 'nightly': 1}\n"
     ]
    }
   ],
   "source": [
    "print(case1)\n",
    "print(case2)"
   ]
  },
  {
   "cell_type": "markdown",
   "id": "86167a88-b436-4603-a913-9c5596a2e828",
   "metadata": {},
   "source": [
    "### Load queries and Judgements"
   ]
  },
  {
   "cell_type": "code",
   "execution_count": 18,
   "id": "34f2119a-15a2-43ef-b352-f5837e590276",
   "metadata": {},
   "outputs": [],
   "source": [
    "def add_query(case, query):\n",
    "    quepid_query = requests.post(\n",
    "        f'http://localhost:8081/api/query/{case.get(\"id\")}/', \n",
    "        headers = AUTH,\n",
    "        json={\n",
    "            \"query_text\": query\n",
    "        }   \n",
    "    )\n",
    "    if quepid_query.status_code == 200:\n",
    "        return quepid_query.json() \n",
    "\n",
    "\n",
    "def add_label(query_id, doc_id, label):\n",
    "    # print([query, doc_id, label])\n",
    "    return requests.post(\n",
    "        f'http://localhost:8081/api/rating/query/{query_id}/rating/', \n",
    "        headers = AUTH,\n",
    "        json={\n",
    "            \"doc_id\": str(doc_id),\n",
    "            \"rating\": label_to_rating(label)\n",
    "        }   \n",
    "    )\n",
    "\n",
    "\n",
    "def label_to_rating(label):\n",
    "    if label == 'Partial':\n",
    "        return 2\n",
    "    if label == 'Exact':\n",
    "        return 3\n",
    "    return 0\n",
    "\n",
    "\n",
    "def add_labels(quepid_query, query_labels):\n",
    "    for _, label in query_labels.iterrows():\n",
    "        add_label(quepid_query, label['product_id'], label['label'])\n"
   ]
  },
  {
   "cell_type": "code",
   "execution_count": 19,
   "id": "9c98c62d-147f-478e-a186-dd46cea497ce",
   "metadata": {},
   "outputs": [
    {
     "name": "stderr",
     "output_type": "stream",
     "text": [
      "100%|███████████████████████████████████████████████████████████████████████████████████████████████| 480/480 [1:04:42<00:00,  8.09s/it]\n"
     ]
    }
   ],
   "source": [
    "for index, row in tqdm(query_df.iterrows(), total=len(query_df)):\n",
    "    query_labels_df = labels_df[labels_df['query_id'] == row['query_id']]\n",
    "    for case in [case1, case2]:\n",
    "        if quepid_query := add_query(case, row['query']):\n",
    "            add_labels(quepid_query.get('id'), query_labels_df)"
   ]
  },
  {
   "cell_type": "markdown",
   "id": "591c0f17-9a0f-4e6a-bde6-07c152a5dcc5",
   "metadata": {},
   "source": [
    "what latest score is?"
   ]
  },
  {
   "cell_type": "code",
   "execution_count": 21,
   "id": "a6304ba1-28c9-49a7-a23e-13272f0d8e96",
   "metadata": {},
   "outputs": [
    {
     "data": {
      "text/plain": [
       "{'id': 1,\n",
       " 'case_name': 'wands',\n",
       " 'last_try_number': 1,\n",
       " 'owner': 1,\n",
       " 'archived': 0,\n",
       " 'scorer_id': 1,\n",
       " 'created_at': '2025-07-20T15:43:01Z',\n",
       " 'updated_at': '2025-07-20T16:32:43Z',\n",
       " 'book_id': None,\n",
       " 'public': None,\n",
       " 'options': None,\n",
       " 'nightly': 1}"
      ]
     },
     "execution_count": 21,
     "metadata": {},
     "output_type": "execute_result"
    }
   ],
   "source": [
    "requests.get(\n",
    "    'http://localhost:8081/api/case/1/', \n",
    "    headers = AUTH   \n",
    ").json()"
   ]
  },
  {
   "cell_type": "markdown",
   "id": "6d391d40-46a3-4292-83b9-fdf27c086f88",
   "metadata": {},
   "source": [
    "![Title](quepid-wands.png)"
   ]
  },
  {
   "cell_type": "code",
   "execution_count": null,
   "id": "e1ea9500-bd52-4e2d-90f7-9b56bcf4a516",
   "metadata": {},
   "outputs": [],
   "source": []
  }
 ],
 "metadata": {
  "kernelspec": {
   "display_name": "Python 3 (ipykernel)",
   "language": "python",
   "name": "python3"
  },
  "language_info": {
   "codemirror_mode": {
    "name": "ipython",
    "version": 3
   },
   "file_extension": ".py",
   "mimetype": "text/x-python",
   "name": "python",
   "nbconvert_exporter": "python",
   "pygments_lexer": "ipython3",
   "version": "3.12.9"
  }
 },
 "nbformat": 4,
 "nbformat_minor": 5
}
