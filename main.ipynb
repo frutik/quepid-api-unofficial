{
 "cells": [
  {
   "cell_type": "markdown",
   "id": "354650a8-e02e-4c79-9e7b-7c417f25b8b8",
   "metadata": {
    "jp-MarkdownHeadingCollapsed": true
   },
   "source": [
    "## WANDS"
   ]
  },
  {
   "cell_type": "code",
   "execution_count": null,
   "id": "009700e3-5d80-41a2-a44d-ce4116df9ebc",
   "metadata": {},
   "outputs": [],
   "source": []
  },
  {
   "cell_type": "code",
   "execution_count": 1,
   "id": "1ff8e159-3722-40b9-b735-5213794446a5",
   "metadata": {},
   "outputs": [
    {
     "name": "stdout",
     "output_type": "stream",
     "text": [
      "Cloning into 'WANDS'...\n",
      "remote: Enumerating objects: 40, done.\u001b[K\n",
      "remote: Counting objects: 100% (19/19), done.\u001b[K\n",
      "remote: Compressing objects: 100% (16/16), done.\u001b[K\n",
      "remote: Total 40 (delta 6), reused 3 (delta 3), pack-reused 21 (from 1)\u001b[K\n",
      "Receiving objects: 100% (40/40), 33.32 MiB | 11.04 MiB/s, done.\n",
      "Resolving deltas: 100% (6/6), done.\n"
     ]
    }
   ],
   "source": [
    "!git clone https://github.com/wayfair/WANDS.git"
   ]
  },
  {
   "cell_type": "code",
   "execution_count": 6,
   "id": "42d71b91-13b2-430a-95a0-36567f4975b4",
   "metadata": {},
   "outputs": [
    {
     "name": "stdout",
     "output_type": "stream",
     "text": [
      "Requirement already satisfied: pandas in /Users/frutik/.pyenv/versions/3.12.9/lib/python3.12/site-packages (2.3.0)\n",
      "Requirement already satisfied: numpy>=1.26.0 in /Users/frutik/.pyenv/versions/3.12.9/lib/python3.12/site-packages (from pandas) (2.2.6)\n",
      "Requirement already satisfied: python-dateutil>=2.8.2 in /Users/frutik/.pyenv/versions/3.12.9/lib/python3.12/site-packages (from pandas) (2.9.0.post0)\n",
      "Requirement already satisfied: pytz>=2020.1 in /Users/frutik/.pyenv/versions/3.12.9/lib/python3.12/site-packages (from pandas) (2025.2)\n",
      "Requirement already satisfied: tzdata>=2022.7 in /Users/frutik/.pyenv/versions/3.12.9/lib/python3.12/site-packages (from pandas) (2025.2)\n",
      "Requirement already satisfied: six>=1.5 in /Users/frutik/.pyenv/versions/3.12.9/lib/python3.12/site-packages (from python-dateutil>=2.8.2->pandas) (1.17.0)\n",
      "\n",
      "\u001b[1m[\u001b[0m\u001b[34;49mnotice\u001b[0m\u001b[1;39;49m]\u001b[0m\u001b[39;49m A new release of pip is available: \u001b[0m\u001b[31;49m25.0.1\u001b[0m\u001b[39;49m -> \u001b[0m\u001b[32;49m25.1.1\u001b[0m\n",
      "\u001b[1m[\u001b[0m\u001b[34;49mnotice\u001b[0m\u001b[1;39;49m]\u001b[0m\u001b[39;49m To update, run: \u001b[0m\u001b[32;49mpip install --upgrade pip\u001b[0m\n"
     ]
    }
   ],
   "source": [
    "!pip install pandas"
   ]
  },
  {
   "cell_type": "code",
   "execution_count": 7,
   "id": "39859386-6262-4f64-8c9e-ba984b057bcc",
   "metadata": {},
   "outputs": [],
   "source": [
    "import pandas as pd"
   ]
  },
  {
   "cell_type": "code",
   "execution_count": 8,
   "id": "a73c8c0d-829b-40fc-8384-eebaf72a8e68",
   "metadata": {},
   "outputs": [
    {
     "data": {
      "text/html": [
       "<div>\n",
       "<style scoped>\n",
       "    .dataframe tbody tr th:only-of-type {\n",
       "        vertical-align: middle;\n",
       "    }\n",
       "\n",
       "    .dataframe tbody tr th {\n",
       "        vertical-align: top;\n",
       "    }\n",
       "\n",
       "    .dataframe thead th {\n",
       "        text-align: right;\n",
       "    }\n",
       "</style>\n",
       "<table border=\"1\" class=\"dataframe\">\n",
       "  <thead>\n",
       "    <tr style=\"text-align: right;\">\n",
       "      <th></th>\n",
       "      <th>query_id</th>\n",
       "      <th>query</th>\n",
       "      <th>query_class</th>\n",
       "    </tr>\n",
       "  </thead>\n",
       "  <tbody>\n",
       "    <tr>\n",
       "      <th>0</th>\n",
       "      <td>0</td>\n",
       "      <td>salon chair</td>\n",
       "      <td>Massage Chairs</td>\n",
       "    </tr>\n",
       "    <tr>\n",
       "      <th>1</th>\n",
       "      <td>1</td>\n",
       "      <td>smart coffee table</td>\n",
       "      <td>Coffee &amp; Cocktail Tables</td>\n",
       "    </tr>\n",
       "    <tr>\n",
       "      <th>2</th>\n",
       "      <td>2</td>\n",
       "      <td>dinosaur</td>\n",
       "      <td>Kids Wall Décor</td>\n",
       "    </tr>\n",
       "    <tr>\n",
       "      <th>3</th>\n",
       "      <td>3</td>\n",
       "      <td>turquoise pillows</td>\n",
       "      <td>Accent Pillows</td>\n",
       "    </tr>\n",
       "    <tr>\n",
       "      <th>4</th>\n",
       "      <td>4</td>\n",
       "      <td>chair and a half recliner</td>\n",
       "      <td>Recliners</td>\n",
       "    </tr>\n",
       "    <tr>\n",
       "      <th>...</th>\n",
       "      <td>...</td>\n",
       "      <td>...</td>\n",
       "      <td>...</td>\n",
       "    </tr>\n",
       "    <tr>\n",
       "      <th>475</th>\n",
       "      <td>483</td>\n",
       "      <td>rustic twig</td>\n",
       "      <td>Faux Plants and Trees</td>\n",
       "    </tr>\n",
       "    <tr>\n",
       "      <th>476</th>\n",
       "      <td>484</td>\n",
       "      <td>nespresso vertuo next premium by breville with...</td>\n",
       "      <td>Espresso Machines</td>\n",
       "    </tr>\n",
       "    <tr>\n",
       "      <th>477</th>\n",
       "      <td>485</td>\n",
       "      <td>pedistole sink</td>\n",
       "      <td>Kitchen Sinks</td>\n",
       "    </tr>\n",
       "    <tr>\n",
       "      <th>478</th>\n",
       "      <td>486</td>\n",
       "      <td>54 in bench cushion</td>\n",
       "      <td>Furniture Cushions</td>\n",
       "    </tr>\n",
       "    <tr>\n",
       "      <th>479</th>\n",
       "      <td>487</td>\n",
       "      <td>rack glass</td>\n",
       "      <td>Candle Holders</td>\n",
       "    </tr>\n",
       "  </tbody>\n",
       "</table>\n",
       "<p>480 rows × 3 columns</p>\n",
       "</div>"
      ],
      "text/plain": [
       "     query_id                                              query  \\\n",
       "0           0                                        salon chair   \n",
       "1           1                                 smart coffee table   \n",
       "2           2                                           dinosaur   \n",
       "3           3                                  turquoise pillows   \n",
       "4           4                          chair and a half recliner   \n",
       "..        ...                                                ...   \n",
       "475       483                                        rustic twig   \n",
       "476       484  nespresso vertuo next premium by breville with...   \n",
       "477       485                                     pedistole sink   \n",
       "478       486                                54 in bench cushion   \n",
       "479       487                                         rack glass   \n",
       "\n",
       "                  query_class  \n",
       "0              Massage Chairs  \n",
       "1    Coffee & Cocktail Tables  \n",
       "2             Kids Wall Décor  \n",
       "3              Accent Pillows  \n",
       "4                   Recliners  \n",
       "..                        ...  \n",
       "475     Faux Plants and Trees  \n",
       "476         Espresso Machines  \n",
       "477             Kitchen Sinks  \n",
       "478        Furniture Cushions  \n",
       "479            Candle Holders  \n",
       "\n",
       "[480 rows x 3 columns]"
      ]
     },
     "execution_count": 8,
     "metadata": {},
     "output_type": "execute_result"
    }
   ],
   "source": [
    "query_df = pd.read_csv(\"WANDS/dataset/query.csv\", sep='\\t')\n",
    "query_df"
   ]
  },
  {
   "cell_type": "markdown",
   "id": "31860335-2d7d-4599-8421-936e2590bd7e",
   "metadata": {},
   "source": [
    "## Tests"
   ]
  },
  {
   "cell_type": "code",
   "execution_count": 10,
   "id": "030cc770-ebfa-4997-a0f5-d480ea87588f",
   "metadata": {},
   "outputs": [],
   "source": [
    "import requests"
   ]
  },
  {
   "cell_type": "code",
   "execution_count": 17,
   "id": "4fc08ae9-0c7b-4652-8671-96b8e1cd24f7",
   "metadata": {},
   "outputs": [],
   "source": [
    "QUEPID_TOKEN = '0efb38d3b65e529da2c981d733ff511e26a27d67ffe1cfab4002ef407e39bfa1'"
   ]
  },
  {
   "cell_type": "code",
   "execution_count": 23,
   "id": "f41d8ad1-131f-4353-9ac5-bbfbab194714",
   "metadata": {},
   "outputs": [
    {
     "data": {
      "text/plain": [
       "b'{\"id\": 5, \"name\": \"fru fru\", \"owner\": 1, \"search_engine\": \"solr\", \"endpoint_url\": \"string\", \"api_method\": null, \"custom_headers\": null, \"archived\": 0, \"created_at\": \"2025-07-06T12:53:49.395Z\", \"updated_at\": \"2025-07-06T12:53:49.395Z\", \"basic_auth_credential\": null, \"mapper_code\": null, \"proxy_requests\": null, \"options\": null}'"
      ]
     },
     "execution_count": 23,
     "metadata": {},
     "output_type": "execute_result"
    }
   ],
   "source": [
    "r = requests.post(\n",
    "    'http://localhost:8081/api/search_endpoints/', \n",
    "    headers = {\n",
    "        \"Authorization\": f\"Bearer {QUEPID_TOKEN}\"\n",
    "    },\n",
    "    json={\n",
    "        \"name\": \"fru fru\",\n",
    "        \"endpoint_url\": \"string\",\n",
    "        \"search_engine\": \"solr\",\n",
    "    }   \n",
    ")\n",
    "\n",
    "r.content"
   ]
  },
  {
   "cell_type": "code",
   "execution_count": null,
   "id": "2bbd01ef-6d91-4081-a145-0bbd3de7be28",
   "metadata": {},
   "outputs": [],
   "source": []
  }
 ],
 "metadata": {
  "kernelspec": {
   "display_name": "Python 3 (ipykernel)",
   "language": "python",
   "name": "python3"
  },
  "language_info": {
   "codemirror_mode": {
    "name": "ipython",
    "version": 3
   },
   "file_extension": ".py",
   "mimetype": "text/x-python",
   "name": "python",
   "nbconvert_exporter": "python",
   "pygments_lexer": "ipython3",
   "version": "3.12.9"
  }
 },
 "nbformat": 4,
 "nbformat_minor": 5
}
